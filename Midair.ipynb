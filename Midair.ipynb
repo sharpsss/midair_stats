{
 "cells": [
  {
   "cell_type": "markdown",
   "metadata": {},
   "source": [
    "# Run the block to import libraries by pressing Shift and Enter at the same time."
   ]
  },
  {
   "cell_type": "code",
   "execution_count": 106,
   "metadata": {},
   "outputs": [],
   "source": [
    "import pandas as pd\n",
    "import trueskill as ts\n",
    "import matplotlib.pyplot as plt\n",
    "from collections import Counter\n",
    "import requests\n",
    "import io\n",
    "import csv\n",
    "%matplotlib inline"
   ]
  },
  {
   "cell_type": "code",
   "execution_count": 107,
   "metadata": {},
   "outputs": [],
   "source": [
    "winner_cols = ['WPlayer1', 'WPlayer2', 'WPlayer3', 'WPlayer4', 'WPlayer5']\n",
    "loser_cols = ['LPlayer1', 'LPlayer2', 'LPlayer3', 'LPlayer4', 'LPlayer5']\n",
    "\n",
    "player_cols = winner_cols + loser_cols\n",
    "relevant_cols = ['Map', 'Date', 'Score', 'Team'] + winner_cols + loser_cols"
   ]
  },
  {
   "cell_type": "markdown",
   "metadata": {},
   "source": [
    "# No need to run anything from here until the next section."
   ]
  },
  {
   "cell_type": "code",
   "execution_count": 122,
   "metadata": {},
   "outputs": [],
   "source": [
    "form_df = pd.read_excel(\"Midair_PUG_tracking (Responses).xlsx\", na_filter = False)\n",
    "region = 'NA'"
   ]
  },
  {
   "cell_type": "code",
   "execution_count": 123,
   "metadata": {},
   "outputs": [],
   "source": [
    "\n",
    "\n",
    "form_df = pd.read_excel(\"Midair_PUG_tracking (Responses).xlsx\", na_filter = False)\n",
    "form_df = form_df[form_df['Region'] == region]\n",
    "\n",
    "loser_df = form_df['Losing players'].str.split(',|:', expand=True)\n",
    "loser_df.columns = loser_cols\n",
    "loser_df\n",
    "\n",
    "winner_df = form_df['Winning players'].str.split(',|:', expand=True)\n",
    "winner_df.columns = winner_cols\n",
    "\n",
    "def Score(series):\n",
    "    return (str(series['Winning Team Score']) + \"-\" + str(series['Losing Team Score']))\n",
    "form_df['Score'] = form_df.apply(Score, axis = 1)\n",
    "form_df.rename(columns={'Winning team': 'Team'}, inplace = True)\n",
    "players_df = pd.concat([winner_df, loser_df], axis = 1)\n",
    "form_df = pd.concat([form_df, players_df], axis = 1)\n",
    "form_df['Date'] = form_df['Date'].apply(pd.to_datetime)\n",
    "\n",
    "form_df[player_cols] = form_df[player_cols].apply(lambda x: x.str.strip())\n",
    "\n",
    "if region == 'AUS':\n",
    "    df = pd.read_excel(\"cb_jester_results.xlsx\")\n",
    "    bittah_tourny_df = pd.read_excel(\"bittah_5s_july.xlsx\")\n",
    "    bhp_df = pd.read_excel(\"Midair Games.xlsx\", sheet_name = 'Sheet2')\n",
    "    df = pd.concat([df, bittah_tourny_df, bhp_df, form_df[relevant_cols]], axis = 0, sort = False)\n",
    "    df[player_cols] = df[player_cols].apply(lambda x: x.astype(str).str.lower().str.strip())\n",
    "    df.replace({'petgen': 'petty', 'basehead':'bhp', 'rr': 'devik', 'hobb': 'nasty hobbit', 'xu1':'xui', 'colonel blair|colonelblair':'cb', \\\n",
    "                'rulefuckdoseplease':'kroz', 'raging moose': 'raging', 'tektra':'tekra', 'launchair':'laun', 'ultralpb': 'damo', \\\n",
    "                'gryp|style|bakara|air|dodge|mikehunt|spacecake': 'new'}, regex = True, inplace = True)\n",
    "    player_dict = ['nasty hobbit', 'ringo', 'chem', 'rumble']\n",
    "    \n",
    "if region == 'NA':\n",
    "    tea_df = pd.read_excel(\"tea_games.xlsx\")\n",
    "    sharp_df = pd.read_excel(\"Midair Games.xlsx\")[tea_df.columns[:-1]]\n",
    "    byo5_df = pd.read_excel(\"byo5_jp.xlsx\")\n",
    "    stork_df = pd.read_excel(\"stork_stats.xlsx\")\n",
    "    yami_df = pd.read_excel(\"yami_moth.xlsx\")\n",
    "    lockjaw_fyr_df = pd.read_excel(\"lockjaw_fyr.xlsx\")\n",
    "    df = pd.concat([tea_df, sharp_df, byo5_df, stork_df, yami_df, lockjaw_fyr_df], axis = 0, sort = False)\n",
    "    df = pd.concat([df, form_df], axis = 0, sort = False).copy()\n",
    "    df[player_cols] = df[player_cols].apply(lambda x: x.astype(str).str.lower())\n",
    "\n",
    "    player_dict = ['stork', 'sparkle', 'scar', 'iced', 'b3d', 'bed', 'pika', 'icehawk', 'debug', 'joe', \\\n",
    "               'implo', 'dae', 'jon osc', 'skip', 'ringo', 'sharp', 'ramses', 'jimmy', 'yods', 'chem', \\\n",
    "               'lock', 'void', 'mista b', 'osc', 'anarchy', 'tyler']\n",
    "\n",
    "for player in player_dict:\n",
    "    df[player_cols] = df[player_cols].replace({'(.*)' + player + '(.*)': player}, regex = True)\n",
    "\n",
    "    df[player_cols] = df[player_cols].replace({'couch' : 'boris', 'b3d':'bed', 'cargo': 'esprit', 'pissface': 'giohm', 'osc': 'immie', \\\n",
    "             'v23': 'v22', 'patrick': 'dae', 'pat': 'moose', 'shreq': 'schreq', \\\n",
    "           'bootswfur|synergizer bunny|ludang|total|sun dog|vitalica|loanwolf32|jeffreee|wristfracture|swoot|kevinator|intense|kromatic|superfam|cykon|chocotaco|debug|sauon|jfw20|wrightrj|hasslehof|cohen|extcy|robbie|ramses|mysterium|brotein|germy the syphilis|raybidet|arrow|missd|mcnibbles|riley|pancak3s|bro\\.scrubamtiskaw': 'newb', \\\n",
    "           'efx|krayvok|ucan|devil|proj': 'decent'}, regex = True)\n",
    "\n"
   ]
  },
  {
   "cell_type": "code",
   "execution_count": 124,
   "metadata": {},
   "outputs": [
    {
     "data": {
      "text/plain": [
       "(423, 21)"
      ]
     },
     "execution_count": 124,
     "metadata": {},
     "output_type": "execute_result"
    }
   ],
   "source": [
    "df.drop_duplicates().shape"
   ]
  },
  {
   "cell_type": "code",
   "execution_count": 125,
   "metadata": {},
   "outputs": [],
   "source": [
    "df.to_pickle(region + '_combined_midair_games.p')"
   ]
  },
  {
   "cell_type": "markdown",
   "metadata": {},
   "source": [
    "# Read in Data\n",
    "Choose your region in the cell below. Then, run everything from here to the bottom by pressing Shift + Enter multiple times. Pay attention to the \"profile_player\" function"
   ]
  },
  {
   "cell_type": "code",
   "execution_count": 126,
   "metadata": {},
   "outputs": [],
   "source": [
    "region = 'NA' # change this to NA or AUS for whichever region you want\n",
    "df = pd.read_pickle(region + '_combined_midair_games.p')\n"
   ]
  },
  {
   "cell_type": "code",
   "execution_count": 127,
   "metadata": {},
   "outputs": [],
   "source": [
    "def str_winning_team(series):\n",
    "    return str(sorted(series[winner_cols]))\n",
    "df['str_winning_team'] = df.apply(str_winning_team, axis = 1)\n",
    "\n",
    "\n",
    "def str_losing_team(series):\n",
    "    return str(sorted(series[loser_cols]))\n",
    "df['str_losing_team'] = df.apply(str_losing_team, axis = 1)\n",
    "\n",
    "df['Date'] = df['Date'].apply(pd.to_datetime)\n",
    "df['Month'] = df['Date'].dt.month\n",
    "\n",
    "df.drop_duplicates(subset = ['Month', 'Map', 'Team', 'str_winning_team', 'str_losing_team'], inplace = True)\n",
    "\n",
    "df[player_cols] = df[player_cols].applymap(str)\n",
    "\n",
    "players = list(set([item for sublist in df[player_cols].values.tolist() for item in sublist]))\n",
    "\n",
    "players_ts = dict(zip(players, [ts.Rating() for i in players]))\n",
    "players_ts_time = {player: [] for player in players}\n",
    "\n",
    "\n",
    "df = df.sort_values(by = 'Date', ascending = True)\n",
    "\n",
    "df['Map'] = df['Map'].str.lower()"
   ]
  },
  {
   "cell_type": "markdown",
   "metadata": {},
   "source": [
    "# Create TrueSkill Rankings"
   ]
  },
  {
   "cell_type": "code",
   "execution_count": 128,
   "metadata": {},
   "outputs": [],
   "source": [
    "for i, row in df.iterrows():\n",
    "    # Find ratings in dictionary\n",
    "    winner_list = list(row[['WPlayer1', 'WPlayer2', 'WPlayer3', 'WPlayer4', 'WPlayer5']])\n",
    "    loser_list = list(row[['LPlayer1', 'LPlayer2', 'LPlayer3', 'LPlayer4', 'LPlayer5']])\n",
    "    t1 = [players_ts[player] for player in winner_list]\n",
    "    t2 = [players_ts[player] for player in loser_list]\n",
    "    \n",
    "    # Get ratings after match\n",
    "    a, b = (ts.rate([t1, t2], ranks=[0, 1]))\n",
    "    \n",
    "    if row['Team'] == 'Tie':\n",
    "        a, b = (ts.rate([t1, t2], ranks=[0, 0]))\n",
    "\n",
    "    # Update ratings in dictionary (not necessary to split winners and losers, but easier to read and debug)\n",
    "    for i, player in enumerate(winner_list):\n",
    "        players_ts[player] = a[i]\n",
    "        players_ts_time[player].append(a[i].mu)\n",
    "    for i, player in enumerate(loser_list):\n",
    "        players_ts[player] = b[i]\n",
    "        players_ts_time[player].append(b[i].mu)"
   ]
  },
  {
   "cell_type": "code",
   "execution_count": 129,
   "metadata": {},
   "outputs": [],
   "source": [
    "\n",
    "sorted_rating_list = sorted(((value.mu, key) for (key,value) in players_ts.items()), reverse = True)"
   ]
  },
  {
   "cell_type": "markdown",
   "metadata": {},
   "source": [
    "# Ratings\n",
    "There are a lot of choices for rating systems. Popular rating systems include elo, glicko2, and trueskill. I opted to use TrueSkill since it's the only one that handles greater than 1v1 cases.\n",
    "\n",
    "Mu represents the estimate of the true rating of a player. Sigma represents the uncertainty factor regarding the estimate of mu. This is often just as important. A player who won 3 out of 3 games but should have only won 2 out of 3 would have a high mu but would still retain a high sigma (low sigma). The algorithm takes into account whether the teams are stacked by calculating its own estimation of what the outcome of the match should be, based on the initial ratings of the players coming into the match.\n",
    "\n",
    "Additional details can be found here: [Layman explanation](https://wiki.faforever.com/index.php?title=How_Trueskill_works), [Technical Explanation](https://www.moserware.com/assets/computing-your-skill/The%20Math%20Behind%20TrueSkill.pdf)."
   ]
  },
  {
   "cell_type": "markdown",
   "metadata": {},
   "source": [
    "#### Players sorted by unadjusted TrueSkill rating (ie. no correction for sigma aka uncertainty)"
   ]
  },
  {
   "cell_type": "code",
   "execution_count": 130,
   "metadata": {
    "scrolled": true
   },
   "outputs": [
    {
     "data": {
      "text/plain": [
       "[(40.45750403443864, 'berserker'),\n",
       " (39.681267076664305, 'sharp'),\n",
       " (37.14470089975524, 'stork'),\n",
       " (35.2617082069084, 'rtcll'),\n",
       " (34.99189039802056, 'tea'),\n",
       " (33.06021147999439, 'joe'),\n",
       " (32.74942578092723, 'jimmy'),\n",
       " (32.58225482331984, 'nark'),\n",
       " (31.66788672349475, 'melur'),\n",
       " (30.674480780361947, 'soundguy'),\n",
       " (30.604894426999067, 'boris'),\n",
       " (30.587062117691026, 'implo'),\n",
       " (30.31800001710341, 'swordfish'),\n",
       " (30.001249374839524, 'izza'),\n",
       " (29.73508933361954, 'icehawk'),\n",
       " (29.668186316673175, 'moose'),\n",
       " (28.939115563347244, 'ringo'),\n",
       " (28.748085073616746, 'sin'),\n",
       " (28.7452999340542, 'missb'),\n",
       " (28.516820161393174, 'anarchy'),\n",
       " (28.14345110856257, 'logic'),\n",
       " (27.849603649122283, 'fire'),\n",
       " (27.78833394964818, 'decent'),\n",
       " (27.68357647062326, 'jp'),\n",
       " (27.657303450965273, 'descolada'),\n",
       " (27.610638212903613, 'fox'),\n",
       " (27.60339543381208, 'bed'),\n",
       " (27.39754540995565, 'pixel_matter'),\n",
       " (27.39754540995565, 'dæ'),\n",
       " (27.194926979493673, 'apsteadyhands'),\n",
       " (27.16535816720044, 'newbxyz'),\n",
       " (27.017367296879822, 'liquidswordz'),\n",
       " (26.674739865927236, 'name'),\n",
       " (26.641540983785386, 'chem'),\n",
       " (26.32664195791036, 'rimmieo'),\n",
       " (26.22301746144986, 'absolute'),\n",
       " (25.90275764641503, 'schreq'),\n",
       " (25.823492638752885, 'v22'),\n",
       " (25.788807136692977, 'kevin'),\n",
       " (25.37306860465548, 'blakk'),\n",
       " (25.27686620243148, 'sajent'),\n",
       " (25.26960509019796, 'slush'),\n",
       " (25.081008567717173, 'laun'),\n",
       " (24.98425222058552, 'cyrus'),\n",
       " (24.911832072659788, 'zwidow'),\n",
       " (24.88422054087705, 'egg'),\n",
       " (24.720104185426305, 'dl'),\n",
       " (24.712663344718862, 'esprit'),\n",
       " (24.444751086373294, 'yami'),\n",
       " (23.93245698403009, 'mavi'),\n",
       " (23.92408595839335, 'oahra'),\n",
       " (23.82525325641606, 'yods'),\n",
       " (23.715300652747278, 'jdope'),\n",
       " (23.707320698236295, 'mista b'),\n",
       " (23.645436097432956, 'dae'),\n",
       " (23.62631138741075, 'doughboy'),\n",
       " (23.47042849219037, 'ravesty'),\n",
       " (23.38367267827185, 'bls'),\n",
       " (23.32544304358567, 'newb0'),\n",
       " (23.271253120919383, 'a god damn demon'),\n",
       " (23.265495751407844, 'discord'),\n",
       " (23.160788729596742, 'giohm'),\n",
       " (23.14761681504491, 'tyler'),\n",
       " (22.68143911663761, 'bossdogxxx'),\n",
       " (22.639022780042822, 'jonimmie'),\n",
       " (22.607246383062254, 'tekra'),\n",
       " (22.48850194751553, 'respa'),\n",
       " (22.41434616332742, 'waterboy'),\n",
       " (22.386329034978903, 'iced'),\n",
       " (22.21880170667494, 'ragencajuin'),\n",
       " (22.05093986515329, 'jeremy blime'),\n",
       " (22.050939865153286, 'goku'),\n",
       " (22.01952877107204, 'jahman'),\n",
       " (22.013081072685548, 'miri'),\n",
       " (21.973575692220383, 'fyr'),\n",
       " (21.84148234877577, 'squid'),\n",
       " (21.54292062719733, 'moth'),\n",
       " (21.393352257720526, 'heterodox'),\n",
       " (21.393352257720526, 'cadsmar'),\n",
       " (21.3827315383099, 'void'),\n",
       " (21.357865713584395, 'spyder'),\n",
       " (21.172257664901007, 'tree'),\n",
       " (20.86907808090991, 'kzn'),\n",
       " (20.66650944298839, 'fray'),\n",
       " (20.665150888342072, 'future'),\n",
       " (20.659790081408133, 'redeye'),\n",
       " (20.645345065597574, 'lovethyneighbor'),\n",
       " (20.504491329325155, 'jon immie'),\n",
       " (20.323997300491122, 'scar'),\n",
       " (20.052820128397418, 'lock'),\n",
       " (20.013136272806182, 'mal'),\n",
       " (19.98199035617604, '1up'),\n",
       " (19.830257818657355, 'tehcranium'),\n",
       " (19.69900656424914, 'immie'),\n",
       " (19.57799750881725, 'lazy'),\n",
       " (19.229128790184678, 'dose'),\n",
       " (18.75652421436018, 'malice'),\n",
       " (18.593542559640035, 'frostbite'),\n",
       " (18.58197018744423, 'rok'),\n",
       " (18.317683466462366, 'risingsun'),\n",
       " (18.125525549666627, 'ownjoo'),\n",
       " (17.214972849476965, 'dalton'),\n",
       " (17.01349989621746, 'pika'),\n",
       " (15.759844344207988, 'skip'),\n",
       " (15.66208198410038, 'sparkle'),\n",
       " (13.94450554147555, 'ripper'),\n",
       " (13.119615282218518, 'newb')]"
      ]
     },
     "execution_count": 130,
     "metadata": {},
     "output_type": "execute_result"
    }
   ],
   "source": [
    "sorted_rating_list"
   ]
  },
  {
   "cell_type": "markdown",
   "metadata": {},
   "source": [
    "#### Players sorted by TrueSkill adjusted rating, with add'l vals of mu and sigma"
   ]
  },
  {
   "cell_type": "code",
   "execution_count": 131,
   "metadata": {
    "scrolled": false
   },
   "outputs": [
    {
     "data": {
      "text/plain": [
       "[(37.15, 39.7, 1.7, 'sharp'),\n",
       " (35.55, 40.5, 3.3, 'berserker'),\n",
       " (30.65, 37.1, 4.3, 'stork'),\n",
       " (29.6, 35.0, 3.6, 'tea'),\n",
       " (29.4, 32.7, 2.2, 'jimmy'),\n",
       " (28.55, 35.3, 4.5, 'rtcll'),\n",
       " (26.95, 33.1, 4.1, 'joe'),\n",
       " (26.7, 30.6, 2.6, 'implo'),\n",
       " (25.8, 29.7, 2.6, 'moose'),\n",
       " (25.2, 30.3, 3.4, 'swordfish'),\n",
       " (24.8, 32.6, 5.2, 'nark'),\n",
       " (24.5, 28.1, 2.4, 'logic'),\n",
       " (24.2, 31.7, 5.0, 'melur'),\n",
       " (24.0, 29.7, 3.8, 'icehawk'),\n",
       " (23.85, 30.6, 4.5, 'boris'),\n",
       " (23.85, 27.6, 2.5, 'fox'),\n",
       " (23.75, 28.7, 3.3, 'sin'),\n",
       " (22.75, 28.9, 4.1, 'ringo'),\n",
       " (22.1, 26.6, 3.0, 'chem'),\n",
       " (21.45, 30.0, 5.7, 'izza'),\n",
       " (21.4, 27.7, 4.2, 'jp'),\n",
       " (21.4, 26.2, 3.2, 'absolute'),\n",
       " (21.4, 24.7, 2.2, 'esprit'),\n",
       " (20.95, 30.7, 6.5, 'soundguy'),\n",
       " (20.9, 27.8, 4.6, 'decent'),\n",
       " (20.8, 25.0, 2.8, 'cyrus'),\n",
       " (20.55, 28.5, 5.3, 'anarchy'),\n",
       " (20.45, 23.6, 2.1, 'dae'),\n",
       " (20.4, 27.6, 4.8, 'bed'),\n",
       " (20.4, 25.8, 3.6, 'v22'),\n",
       " (20.2, 24.4, 2.8, 'yami'),\n",
       " (20.15, 28.7, 5.7, 'missb'),\n",
       " (20.1, 25.8, 3.8, 'kevin'),\n",
       " (19.7, 22.4, 1.8, 'iced'),\n",
       " (19.05, 23.7, 3.1, 'jdope'),\n",
       " (18.85, 25.3, 4.3, 'sajent'),\n",
       " (18.75, 23.4, 3.1, 'bls'),\n",
       " (18.55, 25.3, 4.5, 'slush'),\n",
       " (18.45, 23.7, 3.5, 'mista b'),\n",
       " (18.4, 22.0, 2.4, 'jahman'),\n",
       " (18.35, 21.5, 2.1, 'moth'),\n",
       " (18.25, 27.7, 6.3, 'descolada'),\n",
       " (18.25, 24.7, 4.3, 'dl'),\n",
       " (17.95, 25.9, 5.3, 'schreq'),\n",
       " (17.9, 23.3, 3.6, 'discord'),\n",
       " (17.75, 21.8, 2.7, 'squid'),\n",
       " (17.45, 27.8, 6.9, 'fire'),\n",
       " (17.25, 26.7, 6.3, 'name'),\n",
       " (17.15, 27.2, 6.7, 'newbxyz'),\n",
       " (17.1, 22.5, 3.6, 'respa'),\n",
       " (17.05, 23.8, 4.5, 'yods'),\n",
       " (17.05, 22.6, 3.7, 'tekra'),\n",
       " (16.95, 20.7, 2.5, 'future'),\n",
       " (16.7, 23.9, 4.8, 'mavi'),\n",
       " (16.5, 20.1, 2.4, 'lock'),\n",
       " (16.35, 27.0, 7.1, 'liquidswordz'),\n",
       " (16.35, 20.7, 2.9, 'fray'),\n",
       " (16.2, 23.1, 4.6, 'tyler'),\n",
       " (16.05, 24.9, 5.9, 'egg'),\n",
       " (15.95, 21.2, 3.5, 'tree'),\n",
       " (15.85, 27.4, 7.7, 'pixel_matter'),\n",
       " (15.85, 27.4, 7.7, 'dæ'),\n",
       " (15.85, 22.0, 4.1, 'fyr'),\n",
       " (15.55, 23.2, 5.1, 'giohm'),\n",
       " (15.4, 23.5, 5.4, 'ravesty'),\n",
       " (15.35, 27.2, 7.9, 'apsteadyhands'),\n",
       " (15.35, 25.4, 6.7, 'blakk'),\n",
       " (15.2, 20.3, 3.4, 'scar'),\n",
       " (15.15, 19.2, 2.7, 'dose'),\n",
       " (14.9, 20.0, 3.4, '1up'),\n",
       " (14.75, 23.9, 6.1, 'oahra'),\n",
       " (14.3, 26.3, 8.0, 'rimmieo'),\n",
       " (14.05, 21.4, 4.9, 'spyder'),\n",
       " (14.0, 19.7, 3.8, 'immie'),\n",
       " (13.95, 24.9, 7.3, 'zwidow'),\n",
       " (13.85, 25.1, 7.5, 'laun'),\n",
       " (13.75, 19.6, 3.9, 'lazy'),\n",
       " (13.6, 18.1, 3.0, 'ownjoo'),\n",
       " (13.4, 23.6, 6.8, 'doughboy'),\n",
       " (13.1, 22.4, 6.2, 'waterboy'),\n",
       " (13.1, 18.8, 3.8, 'malice'),\n",
       " (13.0, 21.4, 5.6, 'void'),\n",
       " (12.15, 18.6, 4.3, 'frostbite'),\n",
       " (11.65, 15.7, 2.7, 'sparkle'),\n",
       " (11.3, 23.3, 8.0, 'a god damn demon'),\n",
       " (11.15, 23.3, 8.1, 'newb0'),\n",
       " (10.95, 20.7, 6.5, 'redeye'),\n",
       " (10.9, 22.0, 7.4, 'miri'),\n",
       " (10.8, 22.2, 7.6, 'ragencajuin'),\n",
       " (10.6, 22.6, 8.0, 'jonimmie'),\n",
       " (10.55, 22.7, 8.1, 'bossdogxxx'),\n",
       " (10.35, 19.8, 6.3, 'tehcranium'),\n",
       " (10.25, 22.1, 7.9, 'jeremy blime'),\n",
       " (10.25, 22.1, 7.9, 'goku'),\n",
       " (10.0, 21.4, 7.6, 'heterodox'),\n",
       " (10.0, 21.4, 7.6, 'cadsmar'),\n",
       " (9.85, 17.2, 4.9, 'dalton'),\n",
       " (9.5, 20.6, 7.4, 'lovethyneighbor'),\n",
       " (9.2, 20.9, 7.8, 'kzn'),\n",
       " (9.05, 17.0, 5.3, 'pika'),\n",
       " (9.05, 13.1, 2.7, 'newb'),\n",
       " (8.95, 20.5, 7.7, 'jon immie'),\n",
       " (8.6, 15.8, 4.8, 'skip'),\n",
       " (8.55, 18.6, 6.7, 'rok'),\n",
       " (8.45, 20.0, 7.7, 'mal'),\n",
       " (7.95, 18.3, 6.9, 'risingsun'),\n",
       " (7.15, 13.9, 4.5, 'ripper')]"
      ]
     },
     "execution_count": 131,
     "metadata": {},
     "output_type": "execute_result"
    }
   ],
   "source": [
    "rating_sigma_list = sorted(((round(value.mu, 1), round(value.sigma, 1), key) for (key,value) in players_ts.items()), reverse = True)\n",
    "sorted([(round((item[0] - 1.5*item[1]),2), item[0], item[1], item[2]) for item in rating_sigma_list], reverse = True)\n"
   ]
  },
  {
   "cell_type": "markdown",
   "metadata": {},
   "source": [
    "#### Records for players sorted by rank"
   ]
  },
  {
   "cell_type": "code",
   "execution_count": 102,
   "metadata": {
    "scrolled": true
   },
   "outputs": [
    {
     "data": {
      "text/plain": [
       "[('godog', 14, 10),\n",
       " ('bhp', 14, 5),\n",
       " ('cb', 30, 12),\n",
       " ('zoidberg', 11, 2),\n",
       " ('rain', 4, 0),\n",
       " ('kustom', 7, 7),\n",
       " ('damo', 64, 36),\n",
       " ('fyr', 3, 2),\n",
       " ('sickfest', 3, 1),\n",
       " ('devik', 44, 32),\n",
       " ('dae', 9, 6),\n",
       " ('moose', 5, 6),\n",
       " ('tyler', 1, 0),\n",
       " ('laun', 33, 28),\n",
       " ('nonreg', 2, 2),\n",
       " ('xandrax', 1, 1),\n",
       " ('cyrus', 4, 3),\n",
       " ('petty', 34, 48),\n",
       " ('neogenetix', 27, 30),\n",
       " ('manlover', 1, 1),\n",
       " ('pyre', 3, 3),\n",
       " ('raging', 3, 2),\n",
       " ('confusion', 8, 7),\n",
       " ('cantara', 4, 1),\n",
       " ('danger', 5, 4),\n",
       " ('sajent', 2, 1),\n",
       " ('ringo', 3, 4),\n",
       " ('nasty hobbit', 34, 39),\n",
       " ('tamtim', 23, 17),\n",
       " ('dose', 24, 21),\n",
       " ('tea', 2, 4),\n",
       " ('jester', 37, 37),\n",
       " ('kroz', 13, 17),\n",
       " ('chem', 10, 10),\n",
       " ('xui', 13, 15),\n",
       " ('bloby', 6, 8),\n",
       " ('tekra', 1, 3),\n",
       " ('nexgen', 8, 13),\n",
       " ('xan', 7, 10),\n",
       " ('ambient', 1, 3),\n",
       " ('new', 5, 7),\n",
       " ('iced', 4, 7),\n",
       " ('nuts', 15, 21),\n",
       " ('tonks', 14, 23),\n",
       " ('skewa', 0, 6),\n",
       " ('seldom', 3, 8),\n",
       " ('rumble', 1, 6),\n",
       " ('gregyeah', 19, 50)]"
      ]
     },
     "execution_count": 102,
     "metadata": {},
     "output_type": "execute_result"
    }
   ],
   "source": [
    "[(item[1], df[winner_cols].isin([item[1]]).any(axis = 1).sum(), df[loser_cols].isin([item[1]]).any(axis = 1).sum()) for item in sorted_rating_list]"
   ]
  },
  {
   "cell_type": "code",
   "execution_count": 103,
   "metadata": {},
   "outputs": [
    {
     "data": {
      "image/png": "[encoded data removed]",
      "text/plain": [
       "<Figure size 1440x720 with 1 Axes>"
      ]
     },
     "metadata": {},
     "output_type": "display_data"
    }
   ],
   "source": [
    "plotted_players = [item[1] for item in sorted_rating_list[0:9]]\n",
    "plt.figure(figsize=(20,10))\n",
    "for i, player in enumerate(plotted_players):\n",
    "    plt.plot(players_ts_time[player], alpha=0.5)\n",
    "    \n",
    "plt.title(\"Top 15 Midair Players in \" + str(df.shape[0]) + ' Games')\n",
    "plt.xlabel('Games Played')\n",
    "plt.ylabel('TrueSkill Rating')\n",
    "plt.legend(plotted_players)\n",
    "plt.show()"
   ]
  },
  {
   "cell_type": "code",
   "execution_count": 135,
   "metadata": {},
   "outputs": [],
   "source": [
    "def profile_player(target, partner_list = False, partner = False, opponent_list = False, opponent = False):\n",
    "    profile_df = df[df[player_cols].isin([target]).any(axis = 1)]\n",
    "    profile_df\n",
    "    print (target + \"'s record is: \" + str(df[winner_cols].isin([target]).any(axis = 1).sum()) + \" - \" + \\\n",
    "           str(df[loser_cols].isin([target]).any(axis = 1).sum()))\n",
    "    \n",
    "    rank_ts = [(i+1, item[0]) for i, item in enumerate(sorted_rating_list) if item[1] == target][0]\n",
    "    #print (target + ' is ranked ' + str(rank_ts[0]) + ' out of ' + str(len(sorted_rating_list)) + \\\n",
    "    #      ', with TrueSkill score of ' + str(round(rank_ts[1], 3)) + ' and uncertainty of ' + str(round(players_ts[target].sigma, 3)))\n",
    "    record_df = pd.concat([df[df[winner_cols].isin([target]).any(axis = 1)]['Map'].value_counts(), df[df[loser_cols].isin([target]).any(axis = 1)]['Map'].value_counts()], axis = 1, sort = True)\n",
    "    record_df.columns = ['Wins', 'Losses']\n",
    "    record_df.fillna(0, inplace = True)\n",
    "    record_df.Wins = record_df.Wins.astype(int)\n",
    "    record_df.Losses = record_df.Losses.astype(int)\n",
    "    print (record_df)\n",
    "    \n",
    "    winner_partners_dict = Counter(df[df[winner_cols].isin([target]).any(axis = 1)][winner_cols].values.flatten())\n",
    "    loser_partners_dict = Counter(df[df[loser_cols].isin([target]).any(axis = 1)][loser_cols].values.flatten())\n",
    "    \n",
    "    if partner_list is not False:\n",
    "        ds = [winner_partners_dict, loser_partners_dict]\n",
    "        d = {}\n",
    "        for k in winner_partners_dict:\n",
    "            d[k] = tuple(d[k] for d in ds)\n",
    "            \n",
    "        for k in loser_partners_dict:\n",
    "            if k not in d:\n",
    "                d[k] = tuple(d[k] for d in ds)\n",
    "        print('\\n' + target + \"'s record when playing with these players:\")\n",
    "        print(list(zip(sorted(d, key=lambda x: d[x], reverse=True), sorted(d.values(), reverse = True))))\n",
    "\n",
    "    if partner is not False:\n",
    "        print ('\\n' + target + ' has ' + str(winner_partners_dict[partner]) + ' wins and ' + \\\n",
    "               str(loser_partners_dict[partner]) + ' losses with ' + partner)\n",
    "        \n",
    "    winner_vs_opponents_dict = Counter(df[df[winner_cols].isin([target]).any(axis = 1)][loser_cols].values.flatten())\n",
    "    loser_vs_opponents_dict = Counter(df[df[loser_cols].isin([target]).any(axis = 1)][winner_cols].values.flatten())\n",
    "    \n",
    "    if opponent_list is not False:\n",
    "        ds = [winner_vs_opponents_dict, loser_vs_opponents_dict]\n",
    "        d = {}\n",
    "        for k in winner_vs_opponents_dict:\n",
    "            d[k] = tuple(d[k] for d in ds)\n",
    "        for k in loser_vs_opponents_dict:\n",
    "            if k not in d:\n",
    "                d[k] = tuple(d[k] for d in ds)\n",
    "        print('\\n' + target + \"'s record when playing against these players:\")\n",
    "        print(list(zip(sorted(d, key=lambda x: d[x], reverse=True), sorted(d.values(), reverse = True))))\n",
    "        #print(sorted(d, key=lambda x: d[x], reverse=True))\n",
    "        \n",
    "    if opponent is not False:\n",
    "        print ('\\n' + target + ' has ' + str(winner_vs_opponents_dict[opponent]) + ' wins ' + \\\n",
    "               str(loser_vs_opponents_dict[opponent]) + ' losses against ' + opponent)\n"
   ]
  },
  {
   "cell_type": "code",
   "execution_count": 166,
   "metadata": {},
   "outputs": [
    {
     "name": "stdout",
     "output_type": "stream",
     "text": [
      "moose's record is: 54 - 36\n",
      "             Wins  Losses\n",
      "brynhildr       4       3\n",
      "elite          15       6\n",
      "exhumed         3       0\n",
      "hypothermia     0       1\n",
      "iguana          3       4\n",
      "ingonyama       4       3\n",
      "kryosis         7       9\n",
      "minora         12       6\n",
      "nightflare      1       0\n",
      "outpost         3       3\n",
      "sunset          1       1\n",
      "\n",
      "moose's record when playing with these players:\n",
      "[('moose', (54, 36)), ('sharp', (35, 10)), ('joe', (23, 4)), ('icehawk', (22, 2)), ('stork', (18, 0)), ('boris', (7, 2)), ('future', (6, 9)), ('squid', (6, 6)), ('esprit', (6, 5)), ('dose', (5, 5)), ('fox', (5, 3)), ('respa', (5, 1)), ('jimmy', (4, 5)), ('implo', (4, 4)), ('tree', (4, 4)), ('bed', (4, 2)), ('absolute', (4, 2)), ('nark', (4, 0)), ('fray', (4, 0)), ('iced', (3, 10)), ('dae', (3, 7)), ('newb', (3, 5)), ('tea', (3, 3)), ('berserker', (3, 3)), ('logic', (3, 3)), ('chem', (3, 1)), ('scar', (3, 1)), ('sparkle', (2, 4)), ('lock', (2, 4)), ('mista b', (2, 2)), ('jahman', (2, 2)), ('dalton', (2, 2)), ('sajent', (2, 1)), ('cyrus', (2, 1)), ('1up', (2, 0)), ('discord', (2, 0)), ('sin', (2, 0)), ('moth', (1, 4)), ('immie', (1, 2)), ('kevin', (1, 1)), ('rtcll', (1, 1)), ('izza', (1, 0)), ('swordfish', (1, 0)), ('void', (0, 4)), ('giohm', (0, 4)), ('melur', (0, 3)), ('yods', (0, 2)), ('bls', (0, 2)), ('zwidow', (0, 2)), ('oahra', (0, 2)), ('ripper', (0, 2)), ('schreq', (0, 1)), ('v22', (0, 1))]\n",
      "\n",
      "moose has 3 wins and 7 losses with dae\n",
      "\n",
      "moose's record when playing against these players:\n",
      "[('jimmy', (19, 4)), ('implo', (18, 12)), ('iced', (17, 8)), ('dl', (13, 3)), ('sharp', (11, 15)), ('dae', (11, 12)), ('sin', (11, 4)), ('fray', (10, 4)), ('jp', (9, 0)), ('logic', (8, 10)), ('moth', (7, 5)), ('kevin', (7, 1)), ('malice', (7, 1)), ('cyrus', (5, 3)), ('nark', (5, 2)), ('slush', (5, 2)), ('tyler', (5, 1)), ('respa', (4, 4)), ('discord', (4, 3)), ('ravesty', (4, 0)), ('ownjoo', (4, 0)), ('boris', (3, 7)), ('rtcll', (3, 4)), ('fox', (3, 3)), ('scar', (3, 3)), ('ripper', (3, 2)), ('berserker', (3, 2)), ('icehawk', (3, 1)), ('v22', (3, 1)), ('descolada', (3, 0)), ('newb', (3, 0)), ('squid', (3, 0)), ('esprit', (2, 8)), ('tekra', (2, 3)), ('jdope', (2, 2)), ('bls', (2, 2)), ('pika', (2, 2)), ('joe', (2, 2)), ('void', (2, 1)), ('yami', (2, 1)), ('lock', (2, 1)), ('ringo', (2, 1)), ('yods', (2, 0)), ('melur', (2, 0)), ('schreq', (2, 0)), ('giohm', (2, 0)), ('rok', (2, 0)), ('absolute', (2, 0)), ('jahman', (2, 0)), ('sparkle', (2, 0)), ('future', (1, 7)), ('tea', (1, 6)), ('swordfish', (1, 5)), ('dose', (1, 3)), ('stork', (1, 3)), ('bed', (1, 2)), ('mavi', (1, 2)), ('sajent', (1, 2)), ('spyder', (1, 1)), ('immie', (1, 1)), ('lazy', (1, 1)), ('kzn', (1, 0)), ('name', (1, 0)), ('decent', (1, 0)), ('mista b', (1, 0)), ('blakk', (1, 0)), ('fire', (1, 0)), ('1up', (0, 2)), ('izza', (0, 1)), ('fyr', (0, 1)), ('soundguy', (0, 1)), ('tree', (0, 1)), ('waterboy', (0, 1))]\n",
      "\n",
      "moose has 17 wins 8 losses against iced\n"
     ]
    }
   ],
   "source": [
    "profile_player(target = 'moose', partner_list = True, partner = 'dae', opponent_list = True, opponent = 'iced')"
   ]
  },
  {
   "cell_type": "code",
   "execution_count": 172,
   "metadata": {},
   "outputs": [],
   "source": [
    "import itertools\n",
    "import math\n",
    "BETA = 4.1666\n",
    "def win_probability(team1, team2):\n",
    "    delta_mu = sum(r.mu for r in team1) - sum(r.mu for r in team2)\n",
    "    sum_sigma = sum(r.sigma ** 2 for r in itertools.chain(team1, team2))\n",
    "    size = len(team1) + len(team2)\n",
    "    denom = math.sqrt(size * (BETA * BETA) + sum_sigma)\n",
    "    trueskill = ts.global_env()\n",
    "    return trueskill.cdf(delta_mu / denom)\n"
   ]
  },
  {
   "cell_type": "code",
   "execution_count": 173,
   "metadata": {},
   "outputs": [],
   "source": [
    "def win_prob(series):\n",
    "    return win_probability([players_ts[series['WPlayer1']], players_ts[series['WPlayer2']], players_ts[series['WPlayer3']], \\\n",
    "                     players_ts[series['WPlayer4']], players_ts[series['WPlayer5']]], \\\n",
    "                    [players_ts[series['LPlayer1']], players_ts[series['LPlayer2']], players_ts[series['LPlayer3']], \\\n",
    "                     players_ts[series['LPlayer4']], players_ts[series['LPlayer5']]])\n",
    "\n",
    "df['win_probability'] = df.apply(win_prob, axis = 1)"
   ]
  },
  {
   "cell_type": "code",
   "execution_count": 174,
   "metadata": {},
   "outputs": [],
   "source": [
    "def correct_ts_prediction(series):\n",
    "    return 'Yes' if series['win_probability'] > 0.5 else 'No'\n",
    "df['correct_ts_prediction'] = df.apply(correct_ts_prediction, axis = 1)"
   ]
  },
  {
   "cell_type": "code",
   "execution_count": 175,
   "metadata": {},
   "outputs": [
    {
     "data": {
      "text/plain": [
       "Yes    326\n",
       "No      77\n",
       "Name: correct_ts_prediction, dtype: int64"
      ]
     },
     "execution_count": 175,
     "metadata": {},
     "output_type": "execute_result"
    }
   ],
   "source": [
    "df[df['Team'] != 'Tie']['correct_ts_prediction'].value_counts()"
   ]
  },
  {
   "cell_type": "code",
   "execution_count": 176,
   "metadata": {},
   "outputs": [],
   "source": [
    "# win_probability([players_ts['sharp'], players_ts['joe'], players_ts['moose'], players_ts['implo'], players_ts['icehawk']],\\\n",
    "#                 [players_ts['dl'], players_ts['stork'], players_ts['berserker'], players_ts['logic'], players_ts['sin']])"
   ]
  },
  {
   "cell_type": "code",
   "execution_count": null,
   "metadata": {
    "collapsed": true
   },
   "outputs": [],
   "source": []
  },
  {
   "cell_type": "code",
   "execution_count": null,
   "metadata": {
    "collapsed": true
   },
   "outputs": [],
   "source": []
  }
 ],
 "metadata": {
  "kernelspec": {
   "display_name": "Python 3",
   "language": "python",
   "name": "python3"
  },
  "language_info": {
   "codemirror_mode": {
    "name": "ipython",
    "version": 3
   },
   "file_extension": ".py",
   "mimetype": "text/x-python",
   "name": "python",
   "nbconvert_exporter": "python",
   "pygments_lexer": "ipython3",
   "version": "3.6.5"
  }
 },
 "nbformat": 4,
 "nbformat_minor": 1
}
