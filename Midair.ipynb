{
 "cells": [
  {
   "cell_type": "markdown",
   "metadata": {},
   "source": [
    "# Run the block to import libraries by pressing Shift and Enter at the same time."
   ]
  },
  {
   "cell_type": "code",
   "execution_count": 156,
   "metadata": {},
   "outputs": [],
   "source": [
    "import pandas as pd\n",
    "import trueskill as ts\n",
    "import matplotlib.pyplot as plt\n",
    "from collections import Counter\n",
    "%matplotlib inline"
   ]
  },
  {
   "cell_type": "code",
   "execution_count": 157,
   "metadata": {},
   "outputs": [],
   "source": [
    "winner_cols = ['WPlayer1', 'WPlayer2', 'WPlayer3', 'WPlayer4', 'WPlayer5']\n",
    "loser_cols = ['LPlayer1', 'LPlayer2', 'LPlayer3', 'LPlayer4', 'LPlayer5']\n",
    "\n",
    "player_cols = winner_cols + loser_cols\n",
    "relevant_cols = ['Map', 'Date', 'Score', 'Team'] + winner_cols + loser_cols"
   ]
  },
  {
   "cell_type": "markdown",
   "metadata": {},
   "source": [
    "# No need to run anything from here until the next section."
   ]
  },
  {
   "cell_type": "code",
   "execution_count": 158,
   "metadata": {},
   "outputs": [],
   "source": [
    "form_df = pd.read_excel(\"Midair_PUG_tracking (Responses).xlsx\", na_filter = False)\n",
    "region = 'NA'"
   ]
  },
  {
   "cell_type": "code",
   "execution_count": 159,
   "metadata": {},
   "outputs": [],
   "source": [
    "\n",
    "\n",
    "form_df = pd.read_excel(\"Midair_PUG_tracking (Responses).xlsx\", na_filter = False)\n",
    "form_df = form_df[form_df['Region'] == region]\n",
    "\n",
    "loser_df = form_df['Losing players'].str.split(',|:', expand=True)\n",
    "loser_df.columns = loser_cols\n",
    "loser_df\n",
    "\n",
    "winner_df = form_df['Winning players'].str.split(',|:', expand=True)\n",
    "winner_df.columns = winner_cols\n",
    "\n",
    "def Score(series):\n",
    "    return (str(series['Winning Team Score']) + \"-\" + str(series['Losing Team Score']))\n",
    "form_df['Score'] = form_df.apply(Score, axis = 1)\n",
    "form_df.rename(columns={'Winning team': 'Team'}, inplace = True)\n",
    "players_df = pd.concat([winner_df, loser_df], axis = 1)\n",
    "form_df = pd.concat([form_df, players_df], axis = 1)\n",
    "form_df['Date'] = form_df['Date'].apply(pd.to_datetime)\n",
    "\n",
    "form_df[player_cols] = form_df[player_cols].apply(lambda x: x.str.strip())\n",
    "\n",
    "if region == 'AUS':\n",
    "    df = pd.read_excel(\"cb_jester_results.xlsx\")\n",
    "    bittah_tourny_df = pd.read_excel(\"bittah_5s_july.xlsx\")\n",
    "    bhp_df = pd.read_excel(\"Midair Games.xlsx\", sheet_name = 'Sheet2')\n",
    "    df = pd.concat([df, bittah_tourny_df, bhp_df, form_df[relevant_cols]], axis = 0, sort = False)\n",
    "    df[player_cols] = df[player_cols].apply(lambda x: x.astype(str).str.lower().str.strip())\n",
    "    df.replace({'petgen': 'petty', 'rr': 'devik', 'hobb': 'nasty hobbit', 'xu1':'xui', 'colonel blair':'cb', \\\n",
    "                'rulefuckdoseplease':'kroz', 'raging moose': 'raging', 'tektra':'tekra', 'launchair':'laun', 'ultralpb': 'damo'}, inplace = True)\n",
    "    player_dict = ['nasty hobbit', 'ringo', 'chem']\n",
    "    \n",
    "if region == 'NA':\n",
    "    tea_df = pd.read_excel(\"tea_games.xlsx\")\n",
    "    sharp_df = pd.read_excel(\"Midair Games.xlsx\")[tea_df.columns[:-1]]\n",
    "    byo5_df = pd.read_excel(\"byo5_jp.xlsx\")\n",
    "    stork_df = pd.read_excel(\"stork_stats.xlsx\")\n",
    "    yami_df = pd.read_excel(\"yami_moth.xlsx\")\n",
    "    lockjaw_fyr_df = pd.read_excel(\"lockjaw_fyr.xlsx\")\n",
    "    df = pd.concat([tea_df, sharp_df, byo5_df, stork_df, yami_df, lockjaw_fyr_df], axis = 0, sort = False)\n",
    "    df = pd.concat([df, form_df], axis = 0, sort = False).copy()\n",
    "    df[player_cols] = df[player_cols].apply(lambda x: x.astype(str).str.lower())\n",
    "\n",
    "    player_dict = ['stork', 'sparkle', 'scar', 'iced', 'b3d', 'bed', 'pika', 'icehawk', 'debug', 'joe', \\\n",
    "               'implo', 'dae', 'jon osc', 'skip', 'ringo', 'sharp', 'ramses', 'jimmy', 'yods', 'chem', \\\n",
    "               'lock', 'void', 'mista b', 'osc', 'anarchy', 'tyler']\n",
    "\n",
    "for player in player_dict:\n",
    "    df[player_cols] = df[player_cols].replace({'(.*)' + player + '(.*)': player}, regex = True)\n",
    "\n",
    "    df[player_cols] = df[player_cols].replace({'couch' : 'boris', 'b3d':'bed', 'cargo': 'esprit', 'pissface': 'giohm', 'osc': 'immie', \\\n",
    "             'v23': 'v22', 'patrick': 'dae', 'pat': 'moose', 'shreq': 'schreq', \\\n",
    "           'bootswfur|synergizer bunny|ludang|total|sun dog|vitalica|loanwolf32|jeffreee|wristfracture|swoot|kevinator|intense|kromatic|superfam|cykon|chocotaco|debug|sauon|jfw20|wrightrj|hasslehof|cohen|extcy|robbie|ramses|mysterium|brotein|germy the syphilis|raybidet|arrow|missd|mcnibbles|riley|pancak3s|bro\\.scrubamtiskaw': 'newb', \\\n",
    "           'efx|krayvok|ucan|devil|proj': 'decent'}, regex = True)\n",
    "\n"
   ]
  },
  {
   "cell_type": "code",
   "execution_count": 160,
   "metadata": {},
   "outputs": [
    {
     "data": {
      "text/plain": [
       "(421, 21)"
      ]
     },
     "execution_count": 160,
     "metadata": {},
     "output_type": "execute_result"
    }
   ],
   "source": [
    "df.drop_duplicates().shape"
   ]
  },
  {
   "cell_type": "code",
   "execution_count": 161,
   "metadata": {},
   "outputs": [],
   "source": [
    "df.to_pickle(region + '_combined_midair_games.p')"
   ]
  },
  {
   "cell_type": "markdown",
   "metadata": {},
   "source": [
    "# Read in Data\n",
    "Choose your region in the cell below. Then, run everything from here to the bottom by pressing Shift + Enter multiple times. Pay attention to the \"profile_player\" function"
   ]
  },
  {
   "cell_type": "code",
   "execution_count": 162,
   "metadata": {},
   "outputs": [],
   "source": [
    "region = 'NA' # change this to NA or AUS for whichever region you want\n",
    "df = pd.read_pickle(region + '_combined_midair_games.p')\n"
   ]
  },
  {
   "cell_type": "code",
   "execution_count": 163,
   "metadata": {},
   "outputs": [],
   "source": [
    "def str_winning_team(series):\n",
    "    return str(sorted(series[winner_cols]))\n",
    "df['str_winning_team'] = df.apply(str_winning_team, axis = 1)\n",
    "\n",
    "\n",
    "def str_losing_team(series):\n",
    "    return str(sorted(series[loser_cols]))\n",
    "df['str_losing_team'] = df.apply(str_losing_team, axis = 1)\n",
    "\n",
    "df['Date'] = df['Date'].apply(pd.to_datetime)\n",
    "df['Month'] = df['Date'].dt.month\n",
    "\n",
    "df.drop_duplicates(subset = ['Month', 'Map', 'Team', 'str_winning_team', 'str_losing_team'], inplace = True)\n",
    "\n",
    "df[player_cols] = df[player_cols].applymap(str)\n",
    "\n",
    "players = list(set([item for sublist in df[player_cols].values.tolist() for item in sublist]))\n",
    "\n",
    "players_ts = dict(zip(players, [ts.Rating() for i in players]))\n",
    "players_ts_time = {player: [] for player in players}\n",
    "\n",
    "\n",
    "df = df.sort_values(by = 'Date', ascending = True)\n",
    "\n",
    "df['Map'] = df['Map'].str.lower()"
   ]
  },
  {
   "cell_type": "markdown",
   "metadata": {},
   "source": [
    "# Create TrueSkill Rankings"
   ]
  },
  {
   "cell_type": "code",
   "execution_count": 164,
   "metadata": {},
   "outputs": [],
   "source": [
    "for i, row in df.iterrows():\n",
    "    # Find ratings in dictionary\n",
    "    winner_list = list(row[['WPlayer1', 'WPlayer2', 'WPlayer3', 'WPlayer4', 'WPlayer5']])\n",
    "    loser_list = list(row[['LPlayer1', 'LPlayer2', 'LPlayer3', 'LPlayer4', 'LPlayer5']])\n",
    "    t1 = [players_ts[player] for player in winner_list]\n",
    "    t2 = [players_ts[player] for player in loser_list]\n",
    "    \n",
    "    # Get ratings after match\n",
    "    a, b = (ts.rate([t1, t2], ranks=[0, 1]))\n",
    "    \n",
    "    if row['Team'] == 'Tie':\n",
    "        a, b = (ts.rate([t1, t2], ranks=[0, 0]))\n",
    "\n",
    "    # Update ratings in dictionary (not necessary to split winners and losers, but easier to read and debug)\n",
    "    for i, player in enumerate(winner_list):\n",
    "        players_ts[player] = a[i]\n",
    "        players_ts_time[player].append(a[i].mu)\n",
    "    for i, player in enumerate(loser_list):\n",
    "        players_ts[player] = b[i]\n",
    "        players_ts_time[player].append(b[i].mu)"
   ]
  },
  {
   "cell_type": "code",
   "execution_count": 165,
   "metadata": {},
   "outputs": [],
   "source": [
    "\n",
    "sorted_rating_list = sorted(((value.mu, key) for (key,value) in players_ts.items()), reverse = True)"
   ]
  },
  {
   "cell_type": "markdown",
   "metadata": {},
   "source": [
    "# Ratings\n",
    "There are a lot of choices for rating systems. Popular rating systems include elo, glicko2, and trueskill. I opted to use TrueSkill since it's the only one that handles greater than 1v1 cases.\n",
    "\n",
    "Mu represents the estimate of the true rating of a player. Sigma represents the uncertainty factor regarding the estimate of mu. This is often just as important. A player who won 3 out of 3 games but should have only won 2 out of 3 would have a high mu but would still retain a high sigma (low sigma). The algorithm takes into account whether the teams are stacked by calculating its own estimation of what the outcome of the match should be, based on the initial ratings of the players coming into the match.\n",
    "\n",
    "Additional details can be found here: [Layman explanation](https://wiki.faforever.com/index.php?title=How_Trueskill_works), [Technical Explanation](https://www.moserware.com/assets/computing-your-skill/The%20Math%20Behind%20TrueSkill.pdf)."
   ]
  },
  {
   "cell_type": "markdown",
   "metadata": {},
   "source": [
    "#### Players sorted by unadjusted TrueSkill rating (ie. no correction for sigma aka uncertainty)"
   ]
  },
  {
   "cell_type": "code",
   "execution_count": 166,
   "metadata": {
    "scrolled": true
   },
   "outputs": [
    {
     "data": {
      "text/plain": [
       "[(39.96543750515416, 'sharp'),\n",
       " (39.630450254261476, 'berserker'),\n",
       " (35.90433985259702, 'stork'),\n",
       " (34.78428036493995, 'rtcll'),\n",
       " (34.37294210161753, 'nark'),\n",
       " (33.68415871481919, 'tea'),\n",
       " (33.64680411437309, 'jimmy'),\n",
       " (33.15652862780562, 'joe'),\n",
       " (32.22179919317721, 'melur'),\n",
       " (31.73231693267368, 'soundguy'),\n",
       " (31.681517813379262, 'swordfish'),\n",
       " (31.475778257220476, 'boris'),\n",
       " (30.126360251366567, 'implo'),\n",
       " (29.81792330245853, 'bed'),\n",
       " (29.647408268827146, 'moose'),\n",
       " (29.212524728596225, 'ringo'),\n",
       " (28.941934448341996, 'logic'),\n",
       " (28.730702080521283, 'icehawk'),\n",
       " (28.65897903461087, 'missb'),\n",
       " (28.64900017855346, 'fox'),\n",
       " (28.556657041892063, 'decent'),\n",
       " (28.488851544745998, 'anarchy'),\n",
       " (28.22542842818683, 'izza'),\n",
       " (28.169635282172926, 'sin'),\n",
       " (27.672387732798747, 'name'),\n",
       " (27.44412278535909, 'jp'),\n",
       " (27.214461197818657, 'absolute'),\n",
       " (27.072973908122982, 'newbxyz'),\n",
       " (26.841378511138927, 'apsteadyhands'),\n",
       " (26.799764217548898, 'sajent'),\n",
       " (26.73507622987692, 'kevin'),\n",
       " (26.436719778760384, 'rimmieo'),\n",
       " (26.404351234919584, 'chem'),\n",
       " (26.15056838861873, 'v22'),\n",
       " (25.800960280465336, 'laun'),\n",
       " (25.763170667107737, 'dl'),\n",
       " (25.614769139560213, 'schreq'),\n",
       " (25.542266575542573, 'liquidswordz'),\n",
       " (25.443672164754897, 'mista b'),\n",
       " (25.39952484515932, 'descolada'),\n",
       " (25.201549257533607, 'esprit'),\n",
       " (24.732300219071316, 'zwidow'),\n",
       " (24.68577058123824, 'oahra'),\n",
       " (24.328866079832338, 'yami'),\n",
       " (24.255954128272883, 'cyrus'),\n",
       " (24.22672132522761, 'slush'),\n",
       " (24.12476972103872, 'mavi'),\n",
       " (24.118649766793247, 'fire'),\n",
       " (24.042264935098626, 'dae'),\n",
       " (23.882451474149313, 'doughboy'),\n",
       " (23.58670542806928, 'egg'),\n",
       " (23.58538150092769, 'bls'),\n",
       " (23.246394576631403, 'discord'),\n",
       " (23.216588966719183, 'tyler'),\n",
       " (23.17220590637161, 'newb0'),\n",
       " (23.081670135849443, 'iced'),\n",
       " (22.98625155893341, 'respa'),\n",
       " (22.978550198221754, 'jonimmie'),\n",
       " (22.937287726874327, 'tekra'),\n",
       " (22.917451058387325, 'a god damn demon'),\n",
       " (22.883646562635928, 'miri'),\n",
       " (22.882569781672096, 'giohm'),\n",
       " (22.84920240425278, 'blakk'),\n",
       " (22.722028715225154, 'jdope'),\n",
       " (22.71473422551652, 'waterboy'),\n",
       " (22.57240213253877, 'bossdogxxx'),\n",
       " (22.54984855074494, 'yods'),\n",
       " (22.549625512487882, 'fyr'),\n",
       " (22.42086736539281, 'jahman'),\n",
       " (22.293134133935464, 'jeremy blime'),\n",
       " (22.293134133935464, 'goku'),\n",
       " (22.18154686385992, 'moth'),\n",
       " (22.122475068329813, 'ragencajuin'),\n",
       " (22.04342223138241, 'kzn'),\n",
       " (21.996180587852827, 'ravesty'),\n",
       " (21.97180045687461, 'jon immie'),\n",
       " (21.882139816050945, 'fray'),\n",
       " (21.83938081397138, 'tree'),\n",
       " (21.837178965708095, 'redeye'),\n",
       " (21.594355784857115, 'void'),\n",
       " (21.407347028518977, 'future'),\n",
       " (21.401597548620273, 'heterodox'),\n",
       " (21.401597548620273, 'cadsmar'),\n",
       " (21.337059929475505, 'squid'),\n",
       " (21.320775701506467, 'immie'),\n",
       " (21.03592004136667, 'spyder'),\n",
       " (20.865875785449557, 'lock'),\n",
       " (20.79145797306553, 'lovethyneighbor'),\n",
       " (20.549436427182513, 'tehcranium'),\n",
       " (20.08611682214515, '1up'),\n",
       " (19.76637132055781, 'risingsun'),\n",
       " (19.560477573437833, 'mal'),\n",
       " (19.20982191941176, 'lazy'),\n",
       " (19.025144170702983, 'rok'),\n",
       " (18.58099951307733, 'ownjoo'),\n",
       " (18.54727379459143, 'dose'),\n",
       " (18.4603588551371, 'malice'),\n",
       " (18.39894741338122, 'scar'),\n",
       " (17.41577178473613, 'dalton'),\n",
       " (16.896288101691933, 'frostbite'),\n",
       " (16.727254938892973, 'pika'),\n",
       " (15.553629464383272, 'skip'),\n",
       " (15.398774517784059, 'sparkle'),\n",
       " (13.56912382956258, 'newb'),\n",
       " (12.349152144267485, 'ripper')]"
      ]
     },
     "execution_count": 166,
     "metadata": {},
     "output_type": "execute_result"
    }
   ],
   "source": [
    "sorted_rating_list"
   ]
  },
  {
   "cell_type": "markdown",
   "metadata": {},
   "source": [
    "#### Players sorted by TrueSkill adjusted rating, with add'l vals of mu and sigma"
   ]
  },
  {
   "cell_type": "code",
   "execution_count": 167,
   "metadata": {
    "scrolled": true
   },
   "outputs": [
    {
     "data": {
      "text/plain": [
       "[(37.45, 40.0, 1.7, 'sharp'),\n",
       " (34.5, 39.6, 3.4, 'berserker'),\n",
       " (30.3, 33.6, 2.2, 'jimmy'),\n",
       " (29.45, 35.9, 4.3, 'stork'),\n",
       " (28.45, 33.7, 3.5, 'tea'),\n",
       " (28.05, 34.8, 4.5, 'rtcll'),\n",
       " (27.05, 33.2, 4.1, 'joe'),\n",
       " (26.6, 34.4, 5.2, 'nark'),\n",
       " (26.6, 31.7, 3.4, 'swordfish'),\n",
       " (26.2, 30.1, 2.6, 'implo'),\n",
       " (25.7, 29.6, 2.6, 'moose'),\n",
       " (25.3, 28.9, 2.4, 'logic'),\n",
       " (24.85, 28.6, 2.5, 'fox'),\n",
       " (24.75, 31.5, 4.5, 'boris'),\n",
       " (24.55, 32.2, 5.1, 'melur'),\n",
       " (23.25, 28.2, 3.3, 'sin'),\n",
       " (23.05, 29.2, 4.1, 'ringo'),\n",
       " (23.0, 28.7, 3.8, 'icehawk'),\n",
       " (22.6, 29.8, 4.8, 'bed'),\n",
       " (22.4, 27.2, 3.2, 'absolute'),\n",
       " (21.95, 31.7, 6.5, 'soundguy'),\n",
       " (21.9, 26.4, 3.0, 'chem'),\n",
       " (21.9, 25.2, 2.2, 'esprit'),\n",
       " (21.7, 28.6, 4.6, 'decent'),\n",
       " (21.1, 27.4, 4.2, 'jp'),\n",
       " (21.0, 26.7, 3.8, 'kevin'),\n",
       " (20.85, 24.0, 2.1, 'dae'),\n",
       " (20.8, 26.2, 3.6, 'v22'),\n",
       " (20.4, 28.5, 5.4, 'anarchy'),\n",
       " (20.4, 23.1, 1.8, 'iced'),\n",
       " (20.2, 26.8, 4.4, 'sajent'),\n",
       " (20.15, 28.7, 5.7, 'missb'),\n",
       " (20.1, 24.3, 2.8, 'cyrus'),\n",
       " (20.0, 25.4, 3.6, 'mista b'),\n",
       " (19.95, 24.3, 2.9, 'yami'),\n",
       " (19.5, 28.2, 5.8, 'izza'),\n",
       " (19.35, 25.8, 4.3, 'dl'),\n",
       " (19.05, 22.2, 2.1, 'moth'),\n",
       " (18.95, 23.6, 3.1, 'bls'),\n",
       " (18.8, 22.4, 2.4, 'jahman'),\n",
       " (18.4, 27.7, 6.2, 'name'),\n",
       " (17.9, 22.7, 3.2, 'jdope'),\n",
       " (17.65, 25.6, 5.3, 'schreq'),\n",
       " (17.65, 23.2, 3.7, 'discord'),\n",
       " (17.65, 21.4, 2.5, 'future'),\n",
       " (17.6, 23.0, 3.6, 'respa'),\n",
       " (17.55, 21.9, 2.9, 'fray'),\n",
       " (17.45, 24.2, 4.5, 'slush'),\n",
       " (17.3, 20.9, 2.4, 'lock'),\n",
       " (17.25, 21.3, 2.7, 'squid'),\n",
       " (17.2, 22.9, 3.8, 'tekra'),\n",
       " (17.05, 27.1, 6.7, 'newbxyz'),\n",
       " (16.9, 24.1, 4.8, 'mavi'),\n",
       " (16.55, 21.8, 3.5, 'tree'),\n",
       " (16.35, 22.5, 4.1, 'fyr'),\n",
       " (16.15, 23.2, 4.7, 'tyler'),\n",
       " (15.95, 25.4, 6.3, 'descolada'),\n",
       " (15.75, 22.5, 4.5, 'yods'),\n",
       " (15.45, 21.3, 3.9, 'immie'),\n",
       " (15.4, 24.7, 6.2, 'oahra'),\n",
       " (15.25, 22.9, 5.1, 'giohm'),\n",
       " (15.0, 20.1, 3.4, '1up'),\n",
       " (14.95, 26.8, 7.9, 'apsteadyhands'),\n",
       " (14.85, 25.5, 7.1, 'liquidswordz'),\n",
       " (14.75, 23.6, 5.9, 'egg'),\n",
       " (14.4, 26.4, 8.0, 'rimmieo'),\n",
       " (14.4, 25.8, 7.6, 'laun'),\n",
       " (14.3, 18.5, 2.8, 'dose'),\n",
       " (14.1, 18.6, 3.0, 'ownjoo'),\n",
       " (13.9, 24.1, 6.8, 'fire'),\n",
       " (13.75, 24.7, 7.3, 'zwidow'),\n",
       " (13.75, 22.0, 5.5, 'ravesty'),\n",
       " (13.7, 23.9, 6.8, 'doughboy'),\n",
       " (13.5, 21.0, 5.0, 'spyder'),\n",
       " (13.4, 22.7, 6.2, 'waterboy'),\n",
       " (13.2, 19.2, 4.0, 'lazy'),\n",
       " (13.15, 18.4, 3.5, 'scar'),\n",
       " (13.05, 21.6, 5.7, 'void'),\n",
       " (12.8, 18.5, 3.8, 'malice'),\n",
       " (12.75, 22.8, 6.7, 'blakk'),\n",
       " (12.2, 21.8, 6.4, 'redeye'),\n",
       " (11.95, 22.9, 7.3, 'miri'),\n",
       " (11.35, 15.4, 2.7, 'sparkle'),\n",
       " (11.05, 23.2, 8.1, 'newb0'),\n",
       " (11.05, 22.9, 7.9, 'a god damn demon'),\n",
       " (11.05, 20.5, 6.3, 'tehcranium'),\n",
       " (11.0, 23.0, 8.0, 'jonimmie'),\n",
       " (10.7, 22.1, 7.6, 'ragencajuin'),\n",
       " (10.45, 22.6, 8.1, 'bossdogxxx'),\n",
       " (10.45, 22.3, 7.9, 'jeremy blime'),\n",
       " (10.45, 22.3, 7.9, 'goku'),\n",
       " (10.45, 16.9, 4.3, 'frostbite'),\n",
       " (10.3, 22.0, 7.8, 'kzn'),\n",
       " (10.3, 22.0, 7.8, 'jon immie'),\n",
       " (10.0, 21.4, 7.6, 'heterodox'),\n",
       " (10.0, 21.4, 7.6, 'cadsmar'),\n",
       " (9.9, 17.4, 5.0, 'dalton'),\n",
       " (9.6, 19.8, 6.8, 'risingsun'),\n",
       " (9.55, 20.8, 7.5, 'lovethyneighbor'),\n",
       " (9.55, 13.6, 2.7, 'newb'),\n",
       " (8.95, 19.0, 6.7, 'rok'),\n",
       " (8.75, 16.7, 5.3, 'pika'),\n",
       " (8.4, 15.6, 4.8, 'skip'),\n",
       " (8.05, 19.6, 7.7, 'mal'),\n",
       " (5.55, 12.3, 4.5, 'ripper')]"
      ]
     },
     "execution_count": 167,
     "metadata": {},
     "output_type": "execute_result"
    }
   ],
   "source": [
    "rating_sigma_list = sorted(((round(value.mu, 1), round(value.sigma, 1), key) for (key,value) in players_ts.items()), reverse = True)\n",
    "sorted([(round((item[0] - 1.5*item[1]),2), item[0], item[1], item[2]) for item in rating_sigma_list], reverse = True)\n"
   ]
  },
  {
   "cell_type": "markdown",
   "metadata": {},
   "source": [
    "#### Records for players sorted by rank"
   ]
  },
  {
   "cell_type": "code",
   "execution_count": 168,
   "metadata": {
    "scrolled": true
   },
   "outputs": [
    {
     "data": {
      "text/plain": [
       "[('sharp', 188, 72),\n",
       " ('berserker', 35, 14),\n",
       " ('stork', 25, 7),\n",
       " ('rtcll', 14, 8),\n",
       " ('nark', 18, 6),\n",
       " ('tea', 37, 21),\n",
       " ('jimmy', 79, 63),\n",
       " ('joe', 32, 9),\n",
       " ('melur', 14, 13),\n",
       " ('soundguy', 8, 2),\n",
       " ('swordfish', 32, 16),\n",
       " ('boris', 14, 8),\n",
       " ('implo', 49, 44),\n",
       " ('bed', 15, 8),\n",
       " ('moose', 54, 36),\n",
       " ('ringo', 20, 14),\n",
       " ('logic', 43, 52),\n",
       " ('icehawk', 25, 16),\n",
       " ('missb', 5, 6),\n",
       " ('fox', 44, 42),\n",
       " ('decent', 13, 16),\n",
       " ('anarchy', 7, 5),\n",
       " ('izza', 8, 6),\n",
       " ('sin', 32, 24),\n",
       " ('name', 6, 6),\n",
       " ('jp', 14, 23),\n",
       " ('absolute', 26, 26),\n",
       " ('newbxyz', 3, 4),\n",
       " ('apsteadyhands', 2, 0),\n",
       " ('sajent', 11, 9),\n",
       " ('kevin', 17, 18),\n",
       " ('rimmieo', 2, 0),\n",
       " ('chem', 44, 30),\n",
       " ('v22', 16, 11),\n",
       " ('laun', 1, 1),\n",
       " ('dl', 11, 17),\n",
       " ('schreq', 10, 12),\n",
       " ('liquidswordz', 3, 2),\n",
       " ('mista b', 19, 29),\n",
       " ('descolada', 3, 6),\n",
       " ('esprit', 63, 62),\n",
       " ('zwidow', 1, 3),\n",
       " ('oahra', 4, 6),\n",
       " ('yami', 34, 36),\n",
       " ('cyrus', 37, 24),\n",
       " ('slush', 14, 14),\n",
       " ('mavi', 10, 11),\n",
       " ('fire', 3, 3),\n",
       " ('dae', 68, 78),\n",
       " ('doughboy', 2, 5),\n",
       " ('egg', 5, 8),\n",
       " ('bls', 28, 29),\n",
       " ('discord', 18, 18),\n",
       " ('tyler', 13, 13),\n",
       " ('newb0', 0, 1),\n",
       " ('iced', 86, 131),\n",
       " ('respa', 22, 20),\n",
       " ('jonimmie', 0, 1),\n",
       " ('tekra', 10, 12),\n",
       " ('a god damn demon', 0, 2),\n",
       " ('miri', 2, 2),\n",
       " ('giohm', 10, 16),\n",
       " ('blakk', 3, 4),\n",
       " ('jdope', 29, 21),\n",
       " ('waterboy', 2, 3),\n",
       " ('bossdogxxx', 0, 1),\n",
       " ('yods', 13, 22),\n",
       " ('fyr', 13, 21),\n",
       " ('jahman', 57, 62),\n",
       " ('jeremy blime', 0, 2),\n",
       " ('goku', 0, 2),\n",
       " ('moth', 59, 63),\n",
       " ('ragencajuin', 0, 2),\n",
       " ('kzn', 0, 2),\n",
       " ('ravesty', 7, 9),\n",
       " ('jon immie', 0, 3),\n",
       " ('fray', 34, 40),\n",
       " ('tree', 13, 23),\n",
       " ('redeye', 6, 4),\n",
       " ('void', 5, 10),\n",
       " ('future', 45, 43),\n",
       " ('heterodox', 0, 5),\n",
       " ('cadsmar', 0, 5),\n",
       " ('squid', 32, 36),\n",
       " ('immie', 16, 20),\n",
       " ('spyder', 9, 14),\n",
       " ('lock', 47, 55),\n",
       " ('lovethyneighbor', 0, 2),\n",
       " ('tehcranium', 3, 3),\n",
       " ('1up', 17, 26),\n",
       " ('risingsun', 3, 4),\n",
       " ('mal', 0, 2),\n",
       " ('lazy', 14, 20),\n",
       " ('rok', 1, 3),\n",
       " ('ownjoo', 30, 40),\n",
       " ('dose', 33, 40),\n",
       " ('malice', 13, 27),\n",
       " ('scar', 20, 27),\n",
       " ('dalton', 3, 9),\n",
       " ('frostbite', 17, 22),\n",
       " ('pika', 7, 13),\n",
       " ('skip', 5, 19),\n",
       " ('sparkle', 29, 51),\n",
       " ('newb', 46, 62),\n",
       " ('ripper', 10, 18)]"
      ]
     },
     "execution_count": 168,
     "metadata": {},
     "output_type": "execute_result"
    }
   ],
   "source": [
    "[(item[1], df[winner_cols].isin([item[1]]).any(axis = 1).sum(), df[loser_cols].isin([item[1]]).any(axis = 1).sum()) for item in sorted_rating_list]"
   ]
  },
  {
   "cell_type": "code",
   "execution_count": 169,
   "metadata": {},
   "outputs": [
    {
     "data": {
      "image/png": "[encoded data removed]",
      "text/plain": [
       "<Figure size 1440x720 with 1 Axes>"
      ]
     },
     "metadata": {},
     "output_type": "display_data"
    }
   ],
   "source": [
    "plotted_players = [item[1] for item in sorted_rating_list[0:9]]\n",
    "plt.figure(figsize=(20,10))\n",
    "for i, player in enumerate(plotted_players):\n",
    "    plt.plot(players_ts_time[player], alpha=0.5)\n",
    "    \n",
    "plt.title(\"Top 15 Midair Players in \" + str(df.shape[0]) + ' Games')\n",
    "plt.xlabel('Games Played')\n",
    "plt.ylabel('TrueSkill Rating')\n",
    "plt.legend(plotted_players)\n",
    "plt.show()"
   ]
  },
  {
   "cell_type": "code",
   "execution_count": 170,
   "metadata": {},
   "outputs": [],
   "source": [
    "def profile_player(target, partner_list = False, partner = False, opponent_list = False, opponent = False):\n",
    "    profile_df = df[df[player_cols].isin([target]).any(axis = 1)]\n",
    "    profile_df\n",
    "    print (target + \"'s record is: \" + str(df[winner_cols].isin([target]).any(axis = 1).sum()) + \" - \" + \\\n",
    "           str(df[loser_cols].isin([target]).any(axis = 1).sum()))\n",
    "    \n",
    "    rank_ts = [(i+1, item[0]) for i, item in enumerate(sorted_rating_list) if item[1] == target][0]\n",
    "    print (target + ' is ranked ' + str(rank_ts[0]) + ' out of ' + str(len(sorted_rating_list)) + \\\n",
    "          ', with TrueSkill score of ' + str(round(rank_ts[1], 3)) + ' and uncertainty of ' + str(round(players_ts[target].sigma, 3)))\n",
    "    record_df = pd.concat([df[df[winner_cols].isin([target]).any(axis = 1)]['Map'].value_counts(), df[df[loser_cols].isin([target]).any(axis = 1)]['Map'].value_counts()], axis = 1, sort = True)\n",
    "    record_df.columns = ['Wins', 'Losses']\n",
    "    record_df.fillna(0, inplace = True)\n",
    "    record_df.Wins = record_df.Wins.astype(int)\n",
    "    record_df.Losses = record_df.Losses.astype(int)\n",
    "    print (record_df)\n",
    "    \n",
    "    winner_partners_dict = Counter(df[df[winner_cols].isin([target]).any(axis = 1)][winner_cols].values.flatten())\n",
    "    loser_partners_dict = Counter(df[df[loser_cols].isin([target]).any(axis = 1)][loser_cols].values.flatten())\n",
    "    \n",
    "    if partner_list is not False:\n",
    "        ds = [winner_partners_dict, loser_partners_dict]\n",
    "        d = {}\n",
    "        for k in winner_partners_dict:\n",
    "            d[k] = tuple(d[k] for d in ds)\n",
    "            \n",
    "        for k in loser_partners_dict:\n",
    "            if k not in d:\n",
    "                d[k] = tuple(d[k] for d in ds)\n",
    "        print('\\n' + target + \"'s record when playing with these players:\")\n",
    "        print(list(zip(sorted(d, key=lambda x: d[x], reverse=True), sorted(d.values(), reverse = True))))\n",
    "\n",
    "    if partner is not False:\n",
    "        print ('\\n' + target + ' has ' + str(winner_partners_dict[partner]) + ' wins and ' + \\\n",
    "               str(loser_partners_dict[partner]) + ' losses with ' + partner)\n",
    "        \n",
    "    winner_vs_opponents_dict = Counter(df[df[winner_cols].isin([target]).any(axis = 1)][loser_cols].values.flatten())\n",
    "    loser_vs_opponents_dict = Counter(df[df[loser_cols].isin([target]).any(axis = 1)][winner_cols].values.flatten())\n",
    "    \n",
    "    if opponent_list is not False:\n",
    "        ds = [winner_vs_opponents_dict, loser_vs_opponents_dict]\n",
    "        d = {}\n",
    "        for k in winner_vs_opponents_dict:\n",
    "            d[k] = tuple(d[k] for d in ds)\n",
    "        for k in loser_vs_opponents_dict:\n",
    "            if k not in d:\n",
    "                d[k] = tuple(d[k] for d in ds)\n",
    "        print('\\n' + target + \"'s record when playing against these players:\")\n",
    "        print(list(zip(sorted(d, key=lambda x: d[x], reverse=True), sorted(d.values(), reverse = True))))\n",
    "        #print(sorted(d, key=lambda x: d[x], reverse=True))\n",
    "        \n",
    "    if opponent is not False:\n",
    "        print ('\\n' + target + ' has ' + str(winner_vs_opponents_dict[opponent]) + ' wins ' + \\\n",
    "               str(loser_vs_opponents_dict[opponent]) + ' losses against ' + opponent)\n"
   ]
  },
  {
   "cell_type": "code",
   "execution_count": 171,
   "metadata": {},
   "outputs": [
    {
     "name": "stdout",
     "output_type": "stream",
     "text": [
      "swordfish's record is: 32 - 16\n",
      "swordfish is ranked 11 out of 105, with TrueSkill score of 31.682 and uncertainty of 3.436\n",
      "            Wins  Losses\n",
      "brynhildr      4       2\n",
      "elite          6       5\n",
      "exhumed        1       1\n",
      "iguana         3       0\n",
      "ingonyama      5       0\n",
      "kryosis        5       3\n",
      "minora         4       3\n",
      "nightflare     2       1\n",
      "outpost        2       1\n",
      "\n",
      "swordfish's record when playing with these players:\n",
      "[('swordfish', (32, 16)), ('sharp', (22, 3)), ('moth', (10, 7)), ('dae', (7, 2)), ('iced', (6, 4)), ('ownjoo', (6, 1)), ('jimmy', (6, 0)), ('implo', (5, 3)), ('esprit', (5, 1)), ('yami', (5, 1)), ('fray', (4, 3)), ('boris', (4, 2)), ('tea', (4, 0)), ('jahman', (4, 0)), ('logic', (3, 2)), ('cyrus', (3, 1)), ('sparkle', (3, 1)), ('newb', (2, 3)), ('mavi', (2, 2)), ('jdope', (2, 2)), ('dose', (2, 1)), ('pika', (2, 0)), ('fox', (2, 0)), ('sin', (2, 0)), ('bls', (2, 0)), ('scar', (1, 3)), ('ringo', (1, 2)), ('lazy', (1, 2)), ('future', (1, 2)), ('slush', (1, 1)), ('1up', (1, 1)), ('icehawk', (1, 1)), ('nark', (1, 1)), ('decent', (1, 0)), ('fyr', (1, 0)), ('discord', (1, 0)), ('rtcll', (1, 0)), ('mista b', (1, 0)), ('moose', (1, 0)), ('absolute', (1, 0)), ('lock', (0, 3)), ('chem', (0, 2)), ('respa', (0, 2)), ('malice', (0, 2)), ('kevin', (0, 1)), ('sajent', (0, 1)), ('tekra', (0, 1))]\n",
      "\n",
      "swordfish has 10 wins and 7 losses with moth\n",
      "\n",
      "swordfish's record when playing against these players:\n",
      "[('iced', (16, 2)), ('logic', (10, 2)), ('bls', (9, 1)), ('dae', (8, 3)), ('jimmy', (7, 4)), ('fox', (7, 2)), ('sharp', (6, 9)), ('lock', (6, 1)), ('jahman', (5, 4)), ('scar', (5, 2)), ('fyr', (5, 2)), ('moose', (5, 1)), ('moth', (4, 4)), ('yami', (4, 2)), ('fray', (4, 2)), ('malice', (4, 0)), ('respa', (3, 3)), ('ringo', (3, 2)), ('squid', (3, 0)), ('kevin', (3, 0)), ('skip', (3, 0)), ('cyrus', (2, 5)), ('newb', (2, 3)), ('void', (2, 2)), ('dose', (2, 2)), ('esprit', (2, 2)), ('tea', (2, 2)), ('joe', (2, 2)), ('tree', (2, 1)), ('giohm', (2, 0)), ('melur', (2, 0)), ('oahra', (2, 0)), ('sin', (2, 0)), ('discord', (2, 0)), ('implo', (2, 0)), ('ripper', (2, 0)), ('absolute', (2, 0)), ('mista b', (1, 2)), ('lazy', (1, 1)), ('sparkle', (1, 1)), ('stork', (1, 1)), ('jp', (1, 1)), ('rtcll', (1, 0)), ('jdope', (1, 0)), ('immie', (1, 0)), ('ownjoo', (0, 4)), ('mavi', (0, 2)), ('chem', (0, 2)), ('yods', (0, 1))]\n",
      "\n",
      "swordfish has 0 wins 0 losses against dl\n"
     ]
    }
   ],
   "source": [
    "profile_player(target = 'swordfish', partner_list = True, partner = 'moth', opponent_list = True, opponent = 'dl')"
   ]
  },
  {
   "cell_type": "code",
   "execution_count": 172,
   "metadata": {},
   "outputs": [],
   "source": [
    "import itertools\n",
    "import math\n",
    "BETA = 4.1666\n",
    "def win_probability(team1, team2):\n",
    "    delta_mu = sum(r.mu for r in team1) - sum(r.mu for r in team2)\n",
    "    sum_sigma = sum(r.sigma ** 2 for r in itertools.chain(team1, team2))\n",
    "    size = len(team1) + len(team2)\n",
    "    denom = math.sqrt(size * (BETA * BETA) + sum_sigma)\n",
    "    trueskill = ts.global_env()\n",
    "    return trueskill.cdf(delta_mu / denom)\n"
   ]
  },
  {
   "cell_type": "code",
   "execution_count": 173,
   "metadata": {},
   "outputs": [],
   "source": [
    "def win_prob(series):\n",
    "    return win_probability([players_ts[series['WPlayer1']], players_ts[series['WPlayer2']], players_ts[series['WPlayer3']], \\\n",
    "                     players_ts[series['WPlayer4']], players_ts[series['WPlayer5']]], \\\n",
    "                    [players_ts[series['LPlayer1']], players_ts[series['LPlayer2']], players_ts[series['LPlayer3']], \\\n",
    "                     players_ts[series['LPlayer4']], players_ts[series['LPlayer5']]])\n",
    "\n",
    "df['win_probability'] = df.apply(win_prob, axis = 1)"
   ]
  },
  {
   "cell_type": "code",
   "execution_count": 174,
   "metadata": {},
   "outputs": [],
   "source": [
    "def correct_ts_prediction(series):\n",
    "    return 'Yes' if series['win_probability'] > 0.5 else 'No'\n",
    "df['correct_ts_prediction'] = df.apply(correct_ts_prediction, axis = 1)"
   ]
  },
  {
   "cell_type": "code",
   "execution_count": 175,
   "metadata": {},
   "outputs": [
    {
     "data": {
      "text/plain": [
       "Yes    326\n",
       "No      77\n",
       "Name: correct_ts_prediction, dtype: int64"
      ]
     },
     "execution_count": 175,
     "metadata": {},
     "output_type": "execute_result"
    }
   ],
   "source": [
    "df[df['Team'] != 'Tie']['correct_ts_prediction'].value_counts()"
   ]
  },
  {
   "cell_type": "code",
   "execution_count": 176,
   "metadata": {},
   "outputs": [],
   "source": [
    "# win_probability([players_ts['sharp'], players_ts['joe'], players_ts['moose'], players_ts['implo'], players_ts['icehawk']],\\\n",
    "#                 [players_ts['dl'], players_ts['stork'], players_ts['berserker'], players_ts['logic'], players_ts['sin']])"
   ]
  },
  {
   "cell_type": "code",
   "execution_count": null,
   "metadata": {
    "collapsed": true
   },
   "outputs": [],
   "source": []
  },
  {
   "cell_type": "code",
   "execution_count": null,
   "metadata": {
    "collapsed": true
   },
   "outputs": [],
   "source": []
  }
 ],
 "metadata": {
  "kernelspec": {
   "display_name": "Python 3",
   "language": "python",
   "name": "python3"
  },
  "language_info": {
   "codemirror_mode": {
    "name": "ipython",
    "version": 3
   },
   "file_extension": ".py",
   "mimetype": "text/x-python",
   "name": "python",
   "nbconvert_exporter": "python",
   "pygments_lexer": "ipython3",
   "version": "3.6.5"
  }
 },
 "nbformat": 4,
 "nbformat_minor": 1
}
