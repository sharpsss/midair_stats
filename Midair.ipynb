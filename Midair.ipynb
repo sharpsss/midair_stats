{
 "cells": [
  {
   "cell_type": "markdown",
   "metadata": {},
   "source": [
    "# Run the block to import libraries by pressing Shift and Enter at the same time."
   ]
  },
  {
   "cell_type": "code",
   "execution_count": 877,
   "metadata": {},
   "outputs": [],
   "source": [
    "import pandas as pd\n",
    "import trueskill as ts\n",
    "import matplotlib.pyplot as plt\n",
    "from collections import Counter\n",
    "%matplotlib inline"
   ]
  },
  {
   "cell_type": "code",
   "execution_count": 878,
   "metadata": {},
   "outputs": [],
   "source": [
    "winner_cols = ['WPlayer1', 'WPlayer2', 'WPlayer3', 'WPlayer4', 'WPlayer5']\n",
    "loser_cols = ['LPlayer1', 'LPlayer2', 'LPlayer3', 'LPlayer4', 'LPlayer5']\n",
    "\n",
    "player_cols = winner_cols + loser_cols\n",
    "relevant_cols = ['Map', 'Date', 'Score', 'Team'] + winner_cols + loser_cols"
   ]
  },
  {
   "cell_type": "markdown",
   "metadata": {},
   "source": [
    "# No need to run anything from here until the next section."
   ]
  },
  {
   "cell_type": "code",
   "execution_count": 879,
   "metadata": {},
   "outputs": [],
   "source": [
    "form_df = pd.read_excel(\"Midair_PUG_tracking (Responses).xlsx\", na_filter = False)"
   ]
  },
  {
   "cell_type": "code",
   "execution_count": 880,
   "metadata": {},
   "outputs": [],
   "source": [
    "region = 'NA'\n",
    "\n",
    "form_df = pd.read_excel(\"Midair_PUG_tracking (Responses).xlsx\", na_filter = False)\n",
    "form_df = form_df[form_df['Region'] == region]\n",
    "\n",
    "loser_df = form_df['Losing players'].str.split(',|:', expand=True)\n",
    "loser_df.columns = loser_cols\n",
    "loser_df\n",
    "\n",
    "winner_df = form_df['Winning players'].str.split(',|:', expand=True)\n",
    "winner_df.columns = winner_cols\n",
    "\n",
    "def Score(series):\n",
    "    return (str(series['Winning Team Score']) + \"-\" + str(series['Losing Team Score']))\n",
    "form_df['Score'] = form_df.apply(Score, axis = 1)\n",
    "form_df.rename(columns={'Winning team': 'Team'}, inplace = True)\n",
    "players_df = pd.concat([winner_df, loser_df], axis = 1)\n",
    "form_df = pd.concat([form_df, players_df], axis = 1)\n",
    "form_df['Date'] = form_df['Date'].apply(pd.to_datetime)\n",
    "\n",
    "form_df[player_cols] = form_df[player_cols].apply(lambda x: x.str.strip())"
   ]
  },
  {
   "cell_type": "code",
   "execution_count": 881,
   "metadata": {},
   "outputs": [],
   "source": [
    "if region == 'AUS':\n",
    "    df = pd.read_excel(\"cb_jester_results.xlsx\")\n",
    "    bittah_tourny_df = pd.read_excel(\"bittah_5s_july.xlsx\")\n",
    "    bhp_df = pd.read_excel(\"Midair Games.xlsx\", sheet_name = 'Sheet2')\n",
    "    df = pd.concat([df, bittah_tourny_df, bhp_df, form_df[relevant_cols]], axis = 0, sort = False)\n",
    "    df[player_cols] = df[player_cols].apply(lambda x: x.astype(str).str.lower().str.strip())\n",
    "    df.replace({'petgen': 'petty', 'rr': 'devik', 'hobb': 'nasty hobbit', 'xu1':'xui', 'colonel blair':'cb', \\\n",
    "                'rulefuckdoseplease':'kroz', 'raging moose': 'raging', 'launchair':'laun', 'ultralpb': 'damo', \\\n",
    "                'rr': 'devik',}, inplace = True)\n",
    "if region == 'NA':\n",
    "    tea_df = pd.read_excel(\"tea_games.xlsx\")\n",
    "    sharp_df = pd.read_excel(\"Midair Games.xlsx\")[tea_df.columns[:-1]]\n",
    "    byo5_df = pd.read_excel(\"byo5_jp.xlsx\")\n",
    "    stork_df = pd.read_excel(\"stork_stats.xlsx\")\n",
    "    yami_df = pd.read_excel(\"yami_moth.xlsx\")\n",
    "    lockjaw_fyr_df = pd.read_excel(\"lockjaw_fyr.xlsx\")\n",
    "    df = pd.concat([tea_df, sharp_df, byo5_df, stork_df, yami_df, lockjaw_fyr_df], axis = 0, sort = False)\n",
    "    df = pd.concat([df, form_df], axis = 0, sort = False).copy()\n",
    "    df[player_cols] = df[player_cols].apply(lambda x: x.astype(str).str.lower())\n",
    "\n",
    "    player_dict = ['stork', 'sparkle', 'scar', 'iced', 'b3d', 'bed', 'pika', 'icehawk', 'debug', 'joe', \\\n",
    "               'implo', 'dae', 'jon osc', 'skip', 'ringo', 'sharp', 'ramses', 'jimmy', 'yods', 'chem', \\\n",
    "               'lock', 'void', 'mista b', 'osc', 'anarchy', 'tyler']\n",
    "\n",
    "    for player in player_dict:\n",
    "        df[player_cols] = df[player_cols].replace({'(.*)' + player + '(.*)': player}, regex = True)\n",
    "\n",
    "    df[player_cols] = df[player_cols].replace({'couch' : 'boris', 'b3d':'bed', 'cargo': 'esprit', 'pissface': 'giohm', 'osc': 'immie', \\\n",
    "             'v23': 'v22', 'patrick': 'dae', 'pat': 'moose', 'shreq': 'schreq', \\\n",
    "           'bootswfur|synergizer bunny|ludang|total|sun dog|vitalica|loanwolf32|jeffreee|wristfracture|swoot|kevinator|intense|kromatic|superfam|cykon|chocotaco|debug|sauon|jfw20|wrightrj|hasslehof|cohen|extcy|robbie|ramses|mysterium|brotein|germy the syphilis|raybidet|arrow|missd|mcnibbles|riley|pancak3s|bro\\.scrubamtiskaw': 'newb', \\\n",
    "           'efx|krayvok|ucan|devil|proj': 'decent'}, regex = True)\n",
    "\n"
   ]
  },
  {
   "cell_type": "code",
   "execution_count": 882,
   "metadata": {},
   "outputs": [],
   "source": [
    "df.to_pickle(region + '_combined_midair_games.p')"
   ]
  },
  {
   "cell_type": "markdown",
   "metadata": {},
   "source": [
    "# Read in Data\n",
    "Choose your region in the cell below. Then, run everything from here to the bottom by pressing Shift + Enter multiple times. Pay attention to the \"profile_player\" function"
   ]
  },
  {
   "cell_type": "code",
   "execution_count": 883,
   "metadata": {},
   "outputs": [],
   "source": [
    "region = 'NA' # change this to NA or AUS for whichever region you want\n",
    "df = pd.read_pickle(region + '_combined_midair_games.p')\n"
   ]
  },
  {
   "cell_type": "code",
   "execution_count": 884,
   "metadata": {},
   "outputs": [],
   "source": [
    "def str_winning_team(series):\n",
    "    return str(sorted(series[winner_cols]))\n",
    "df['str_winning_team'] = df.apply(str_winning_team, axis = 1)\n",
    "\n",
    "\n",
    "def str_losing_team(series):\n",
    "    return str(sorted(series[loser_cols]))\n",
    "df['str_losing_team'] = df.apply(str_losing_team, axis = 1)\n",
    "\n",
    "df['Date'] = df['Date'].apply(pd.to_datetime)\n",
    "df['Month'] = df['Date'].dt.month\n",
    "\n",
    "df.drop_duplicates(subset = ['Month', 'Map', 'Team', 'str_winning_team', 'str_losing_team'], inplace = True)\n",
    "\n",
    "df[player_cols] = df[player_cols].applymap(str)\n",
    "\n",
    "players = list(set([item for sublist in df[player_cols].values.tolist() for item in sublist]))\n",
    "\n",
    "players_ts = dict(zip(players, [ts.Rating() for i in players]))\n",
    "players_ts_time = {player: [] for player in players}\n",
    "\n",
    "\n",
    "df = df.sort_values(by = 'Date', ascending = True)\n",
    "\n",
    "df['Map'] = df['Map'].str.lower()"
   ]
  },
  {
   "cell_type": "markdown",
   "metadata": {},
   "source": [
    "# Create TrueSkill Rankings"
   ]
  },
  {
   "cell_type": "code",
   "execution_count": 885,
   "metadata": {},
   "outputs": [],
   "source": [
    "for i, row in df.iterrows():\n",
    "    # Find ratings in dictionary\n",
    "    winner_list = list(row[['WPlayer1', 'WPlayer2', 'WPlayer3', 'WPlayer4', 'WPlayer5']])\n",
    "    loser_list = list(row[['LPlayer1', 'LPlayer2', 'LPlayer3', 'LPlayer4', 'LPlayer5']])\n",
    "    t1 = [players_ts[player] for player in winner_list]\n",
    "    t2 = [players_ts[player] for player in loser_list]\n",
    "    \n",
    "    # Get ratings after match\n",
    "    a, b = (ts.rate([t1, t2], ranks=[0, 1]))\n",
    "    \n",
    "    if row['Team'] == 'Tie':\n",
    "        a, b = (ts.rate([t1, t2], ranks=[0, 0]))\n",
    "\n",
    "    # Update ratings in dictionary (not necessary to split winners and losers, but easier to read and debug)\n",
    "    for i, player in enumerate(winner_list):\n",
    "        players_ts[player] = a[i]\n",
    "        players_ts_time[player].append(a[i].mu)\n",
    "    for i, player in enumerate(loser_list):\n",
    "        players_ts[player] = b[i]\n",
    "        players_ts_time[player].append(b[i].mu)"
   ]
  },
  {
   "cell_type": "code",
   "execution_count": 886,
   "metadata": {},
   "outputs": [],
   "source": [
    "\n",
    "sorted_rating_list = sorted(((value.mu, key) for (key,value) in players_ts.items()), reverse = True)"
   ]
  },
  {
   "cell_type": "markdown",
   "metadata": {},
   "source": [
    "# Ratings\n",
    "There are a lot of choices for rating systems. Popular rating systems include elo, glicko2, and trueskill. I opted to use TrueSkill since it's the only one that handles greater than 1v1 cases.\n",
    "\n",
    "Mu represents the estimate of the true rating of a player. Sigma represents the uncertainty factor regarding the estimate of mu. This is often just as important. A player who won 3 out of 3 games but should have only won 2 out of 3 would have a high mu but would still retain a high sigma (low sigma). The algorithm takes into account whether the teams are stacked by calculating its own estimation of what the outcome of the match should be, based on the initial ratings of the players coming into the match.\n",
    "\n",
    "Additional details can be found here: [Layman explanation](https://wiki.faforever.com/index.php?title=How_Trueskill_works), [Technical Explanation](https://www.moserware.com/assets/computing-your-skill/The%20Math%20Behind%20TrueSkill.pdf)."
   ]
  },
  {
   "cell_type": "markdown",
   "metadata": {},
   "source": [
    "#### Players sorted by unadjusted TrueSkill rating (ie. no correction for sigma aka uncertainty)"
   ]
  },
  {
   "cell_type": "code",
   "execution_count": 887,
   "metadata": {
    "scrolled": true
   },
   "outputs": [
    {
     "data": {
      "text/plain": [
       "[(39.795450249157085, 'sharp'),\n",
       " (39.57292270059893, 'berserker'),\n",
       " (35.942776364793964, 'stork'),\n",
       " (34.91641745201789, 'rtcll'),\n",
       " (34.23322887505791, 'nark'),\n",
       " (33.55752876869439, 'tea'),\n",
       " (33.418468216180365, 'jimmy'),\n",
       " (32.44686599421768, 'joe'),\n",
       " (32.16658342012906, 'melur'),\n",
       " (31.774973270721457, 'soundguy'),\n",
       " (31.51542836783893, 'boris'),\n",
       " (31.426172839401925, 'swordfish'),\n",
       " (29.997445250723068, 'implo'),\n",
       " (29.72637038587049, 'moose'),\n",
       " (29.62155002066407, 'bed'),\n",
       " (29.359207123224568, 'ringo'),\n",
       " (28.820726320381265, 'logic'),\n",
       " (28.813127518602865, 'decent'),\n",
       " (28.74300918925495, 'missb'),\n",
       " (28.71151422412464, 'icehawk'),\n",
       " (28.516749566416625, 'fox'),\n",
       " (28.31602799087058, 'izza'),\n",
       " (27.876504732288037, 'anarchy'),\n",
       " (27.728840361928306, 'sin'),\n",
       " (27.708367370904266, 'name'),\n",
       " (27.559581143746204, 'absolute'),\n",
       " (27.402193392422728, 'jp'),\n",
       " (26.900245974938365, 'apsteadyhands'),\n",
       " (26.775697898588835, 'sajent'),\n",
       " (26.582309055075193, 'kevin'),\n",
       " (26.51249633093715, 'chem'),\n",
       " (26.428804032735243, 'schreq'),\n",
       " (26.23552570433353, 'laun'),\n",
       " (25.920544073304345, 'v22'),\n",
       " (25.747806351327036, 'dl'),\n",
       " (25.429781660181217, 'descolada'),\n",
       " (25.31016059003789, 'mista b'),\n",
       " (25.24152496893619, 'liquidswordz'),\n",
       " (25.109320460321406, 'esprit'),\n",
       " (24.7254735682692, 'zwidow'),\n",
       " (24.372781095919336, 'yami'),\n",
       " (24.360497085790435, 'oahra'),\n",
       " (24.329294909915276, 'slush'),\n",
       " (24.120797636563175, 'dae'),\n",
       " (24.09516407563977, 'fire'),\n",
       " (23.987528457761083, 'cyrus'),\n",
       " (23.698254964131287, 'mavi'),\n",
       " (23.638958409811963, 'tyler'),\n",
       " (23.628603877099014, 'doughboy'),\n",
       " (23.470736575951687, 'bls'),\n",
       " (23.392363265315996, 'egg'),\n",
       " (23.057001846333566, 'a god damn demon'),\n",
       " (23.05255603699577, 'respa'),\n",
       " (22.973945502210512, 'tekra'),\n",
       " (22.90406597842445, 'iced'),\n",
       " (22.868413133032366, 'discord'),\n",
       " (22.826372634630875, 'blakk'),\n",
       " (22.82219259598884, 'giohm'),\n",
       " (22.74811008000782, 'miri'),\n",
       " (22.663489521642187, 'waterboy'),\n",
       " (22.582535713059062, 'jeremy blime'),\n",
       " (22.582535713059062, 'goku'),\n",
       " (22.54427047847449, 'jdope'),\n",
       " (22.538463514890676, 'bossdogxxx'),\n",
       " (22.343416822534316, 'redeye'),\n",
       " (22.21118883664479, 'yods'),\n",
       " (22.196630304272617, 'jahman'),\n",
       " (22.097825352162875, 'fyr'),\n",
       " (22.067678573284947, 'moth'),\n",
       " (22.036249405548524, 'kzn'),\n",
       " (22.0116134146319, 'ravesty'),\n",
       " (21.88541646510124, 'ragencajuin'),\n",
       " (21.7740619818444, 'fray'),\n",
       " (21.66549296481903, 'tree'),\n",
       " (21.330309277771654, 'cadsmar'),\n",
       " (21.33030927777165, 'heterodox'),\n",
       " (21.088757884090086, 'squid'),\n",
       " (20.92072099064012, 'lovethyneighbor'),\n",
       " (20.80483513802832, 'void'),\n",
       " (20.795490589062734, 'future'),\n",
       " (20.771344839837916, 'spyder'),\n",
       " (20.765137208299297, 'lock'),\n",
       " (20.739530457844825, 'tehcranium'),\n",
       " (20.579986648831447, 'immie'),\n",
       " (20.29663950169184, '1up'),\n",
       " (20.147868994685375, 'risingsun'),\n",
       " (19.845860428614202, 'mal'),\n",
       " (19.592552631376282, 'rok'),\n",
       " (19.367604299811305, 'lazy'),\n",
       " (18.75098249788513, 'ownjoo'),\n",
       " (18.585860883113455, 'dose'),\n",
       " (18.252637082832837, 'scar'),\n",
       " (18.063347686696257, 'malice'),\n",
       " (17.313795621025253, 'dalton'),\n",
       " (17.198662885639575, 'pika'),\n",
       " (16.11624761498171, 'frostbite'),\n",
       " (15.511374890883674, 'skip'),\n",
       " (15.127657494365579, 'sparkle'),\n",
       " (13.418920807472736, 'newb'),\n",
       " (12.204271381867974, 'ripper')]"
      ]
     },
     "execution_count": 887,
     "metadata": {},
     "output_type": "execute_result"
    }
   ],
   "source": [
    "sorted_rating_list"
   ]
  },
  {
   "cell_type": "markdown",
   "metadata": {},
   "source": [
    "#### Players sorted by TrueSkill adjusted rating, with add'l vals of mu and sigma"
   ]
  },
  {
   "cell_type": "code",
   "execution_count": 888,
   "metadata": {
    "scrolled": true
   },
   "outputs": [
    {
     "data": {
      "text/plain": [
       "[(37.25, 39.8, 1.7, 'sharp'),\n",
       " (34.65, 39.6, 3.3, 'berserker'),\n",
       " (30.1, 33.4, 2.2, 'jimmy'),\n",
       " (29.45, 35.9, 4.3, 'stork'),\n",
       " (28.35, 33.6, 3.5, 'tea'),\n",
       " (28.15, 34.9, 4.5, 'rtcll'),\n",
       " (26.4, 34.2, 5.2, 'nark'),\n",
       " (26.3, 31.4, 3.4, 'swordfish'),\n",
       " (26.25, 32.4, 4.1, 'joe'),\n",
       " (26.1, 30.0, 2.6, 'implo'),\n",
       " (25.8, 29.7, 2.6, 'moose'),\n",
       " (25.2, 28.8, 2.4, 'logic'),\n",
       " (24.75, 31.5, 4.5, 'boris'),\n",
       " (24.75, 28.5, 2.5, 'fox'),\n",
       " (24.55, 32.2, 5.1, 'melur'),\n",
       " (23.25, 29.4, 4.1, 'ringo'),\n",
       " (23.0, 28.7, 3.8, 'icehawk'),\n",
       " (22.8, 27.6, 3.2, 'absolute'),\n",
       " (22.75, 27.7, 3.3, 'sin'),\n",
       " (22.4, 29.6, 4.8, 'bed'),\n",
       " (22.05, 31.8, 6.5, 'soundguy'),\n",
       " (22.0, 26.5, 3.0, 'chem'),\n",
       " (21.9, 28.8, 4.6, 'decent'),\n",
       " (21.8, 25.1, 2.2, 'esprit'),\n",
       " (21.1, 27.4, 4.2, 'jp'),\n",
       " (20.95, 24.1, 2.1, 'dae'),\n",
       " (20.9, 26.6, 3.8, 'kevin'),\n",
       " (20.5, 25.9, 3.6, 'v22'),\n",
       " (20.2, 26.8, 4.4, 'sajent'),\n",
       " (20.2, 22.9, 1.8, 'iced'),\n",
       " (20.15, 28.7, 5.7, 'missb'),\n",
       " (20.05, 24.4, 2.9, 'yami'),\n",
       " (19.9, 25.3, 3.6, 'mista b'),\n",
       " (19.8, 27.9, 5.4, 'anarchy'),\n",
       " (19.8, 24.0, 2.8, 'cyrus'),\n",
       " (19.45, 28.3, 5.9, 'izza'),\n",
       " (19.25, 25.7, 4.3, 'dl'),\n",
       " (18.95, 22.1, 2.1, 'moth'),\n",
       " (18.85, 23.5, 3.1, 'bls'),\n",
       " (18.6, 22.2, 2.4, 'jahman'),\n",
       " (18.45, 26.4, 5.3, 'schreq'),\n",
       " (18.4, 27.7, 6.2, 'name'),\n",
       " (17.7, 23.1, 3.6, 'respa'),\n",
       " (17.7, 22.5, 3.2, 'jdope'),\n",
       " (17.55, 24.3, 4.5, 'slush'),\n",
       " (17.45, 21.8, 2.9, 'fray'),\n",
       " (17.35, 22.9, 3.7, 'discord'),\n",
       " (17.3, 23.0, 3.8, 'tekra'),\n",
       " (17.2, 20.8, 2.4, 'lock'),\n",
       " (17.05, 21.1, 2.7, 'squid'),\n",
       " (17.05, 20.8, 2.5, 'future'),\n",
       " (16.55, 23.6, 4.7, 'tyler'),\n",
       " (16.5, 23.7, 4.8, 'mavi'),\n",
       " (16.45, 21.7, 3.5, 'tree'),\n",
       " (15.95, 25.4, 6.3, 'descolada'),\n",
       " (15.95, 22.1, 4.1, 'fyr'),\n",
       " (15.45, 22.2, 4.5, 'yods'),\n",
       " (15.2, 20.3, 3.4, '1up'),\n",
       " (15.15, 22.8, 5.1, 'giohm'),\n",
       " (15.1, 24.4, 6.2, 'oahra'),\n",
       " (15.05, 26.9, 7.9, 'apsteadyhands'),\n",
       " (15.05, 20.6, 3.7, 'immie'),\n",
       " (14.8, 26.2, 7.6, 'laun'),\n",
       " (14.55, 25.2, 7.1, 'liquidswordz'),\n",
       " (14.55, 23.4, 5.9, 'egg'),\n",
       " (14.4, 18.6, 2.8, 'dose'),\n",
       " (14.3, 18.8, 3.0, 'ownjoo'),\n",
       " (13.9, 24.1, 6.8, 'fire'),\n",
       " (13.9, 22.0, 5.4, 'ravesty'),\n",
       " (13.75, 24.7, 7.3, 'zwidow'),\n",
       " (13.55, 23.6, 6.7, 'doughboy'),\n",
       " (13.4, 22.7, 6.2, 'waterboy'),\n",
       " (13.4, 19.4, 4.0, 'lazy'),\n",
       " (13.3, 20.8, 5.0, 'spyder'),\n",
       " (13.05, 18.3, 3.5, 'scar'),\n",
       " (12.75, 22.8, 6.7, 'blakk'),\n",
       " (12.7, 22.3, 6.4, 'redeye'),\n",
       " (12.4, 18.1, 3.8, 'malice'),\n",
       " (12.25, 20.8, 5.7, 'void'),\n",
       " (11.75, 22.7, 7.3, 'miri'),\n",
       " (11.25, 23.1, 7.9, 'a god damn demon'),\n",
       " (11.25, 20.7, 6.3, 'tehcranium'),\n",
       " (11.05, 15.1, 2.7, 'sparkle'),\n",
       " (10.6, 22.6, 8.0, 'jeremy blime'),\n",
       " (10.6, 22.6, 8.0, 'goku'),\n",
       " (10.5, 21.9, 7.6, 'ragencajuin'),\n",
       " (10.35, 22.5, 8.1, 'bossdogxxx'),\n",
       " (10.3, 22.0, 7.8, 'kzn'),\n",
       " (9.9, 21.3, 7.6, 'heterodox'),\n",
       " (9.9, 21.3, 7.6, 'cadsmar'),\n",
       " (9.9, 20.1, 6.8, 'risingsun'),\n",
       " (9.8, 17.3, 5.0, 'dalton'),\n",
       " (9.65, 20.9, 7.5, 'lovethyneighbor'),\n",
       " (9.65, 16.1, 4.3, 'frostbite'),\n",
       " (9.55, 19.6, 6.7, 'rok'),\n",
       " (9.5, 13.4, 2.6, 'newb'),\n",
       " (9.25, 17.2, 5.3, 'pika'),\n",
       " (8.3, 15.5, 4.8, 'skip'),\n",
       " (8.25, 19.8, 7.7, 'mal'),\n",
       " (5.45, 12.2, 4.5, 'ripper')]"
      ]
     },
     "execution_count": 888,
     "metadata": {},
     "output_type": "execute_result"
    }
   ],
   "source": [
    "rating_sigma_list = sorted(((round(value.mu, 1), round(value.sigma, 1), key) for (key,value) in players_ts.items()), reverse = True)\n",
    "sorted([(round((item[0] - 1.5*item[1]),2), item[0], item[1], item[2]) for item in rating_sigma_list], reverse = True)\n"
   ]
  },
  {
   "cell_type": "markdown",
   "metadata": {},
   "source": [
    "#### Records for players sorted by rank"
   ]
  },
  {
   "cell_type": "code",
   "execution_count": 891,
   "metadata": {
    "scrolled": true
   },
   "outputs": [
    {
     "data": {
      "text/plain": [
       "[('sharp', 188, 72),\n",
       " ('berserker', 35, 14),\n",
       " ('stork', 25, 7),\n",
       " ('rtcll', 14, 8),\n",
       " ('nark', 18, 6),\n",
       " ('tea', 37, 21),\n",
       " ('jimmy', 79, 63),\n",
       " ('joe', 32, 9),\n",
       " ('melur', 14, 13),\n",
       " ('soundguy', 8, 2),\n",
       " ('boris', 14, 8),\n",
       " ('swordfish', 32, 16),\n",
       " ('implo', 49, 44),\n",
       " ('moose', 54, 36),\n",
       " ('bed', 15, 8),\n",
       " ('ringo', 20, 14),\n",
       " ('logic', 43, 52),\n",
       " ('decent', 13, 16),\n",
       " ('missb', 5, 6),\n",
       " ('icehawk', 25, 16),\n",
       " ('fox', 44, 42),\n",
       " ('izza', 8, 6),\n",
       " ('anarchy', 7, 5),\n",
       " ('sin', 32, 24),\n",
       " ('name', 6, 6),\n",
       " ('absolute', 26, 26),\n",
       " ('jp', 14, 23),\n",
       " ('apsteadyhands', 2, 0),\n",
       " ('sajent', 11, 9),\n",
       " ('kevin', 17, 18),\n",
       " ('chem', 44, 30),\n",
       " ('schreq', 10, 12),\n",
       " ('laun', 1, 1),\n",
       " ('v22', 16, 11),\n",
       " ('dl', 11, 17),\n",
       " ('descolada', 3, 6),\n",
       " ('mista b', 19, 29),\n",
       " ('liquidswordz', 3, 2),\n",
       " ('esprit', 63, 62),\n",
       " ('zwidow', 1, 3),\n",
       " ('yami', 34, 36),\n",
       " ('oahra', 4, 6),\n",
       " ('slush', 14, 14),\n",
       " ('dae', 68, 78),\n",
       " ('fire', 3, 3),\n",
       " ('cyrus', 37, 24),\n",
       " ('mavi', 10, 11),\n",
       " ('tyler', 13, 13),\n",
       " ('doughboy', 2, 5),\n",
       " ('bls', 28, 29),\n",
       " ('egg', 5, 8),\n",
       " ('a god damn demon', 0, 2),\n",
       " ('respa', 22, 20),\n",
       " ('tekra', 10, 12),\n",
       " ('iced', 86, 131),\n",
       " ('discord', 18, 18),\n",
       " ('blakk', 3, 4),\n",
       " ('giohm', 10, 16),\n",
       " ('miri', 2, 2),\n",
       " ('waterboy', 2, 3),\n",
       " ('jeremy blime', 0, 2),\n",
       " ('goku', 0, 2),\n",
       " ('jdope', 29, 21),\n",
       " ('bossdogxxx', 0, 1),\n",
       " ('redeye', 6, 4),\n",
       " ('yods', 13, 22),\n",
       " ('jahman', 57, 62),\n",
       " ('fyr', 13, 21),\n",
       " ('moth', 59, 63),\n",
       " ('kzn', 0, 2),\n",
       " ('ravesty', 7, 9),\n",
       " ('ragencajuin', 0, 2),\n",
       " ('fray', 34, 40),\n",
       " ('tree', 13, 23),\n",
       " ('cadsmar', 0, 5),\n",
       " ('heterodox', 0, 5),\n",
       " ('squid', 32, 36),\n",
       " ('lovethyneighbor', 0, 2),\n",
       " ('void', 5, 10),\n",
       " ('future', 45, 43),\n",
       " ('spyder', 9, 14),\n",
       " ('lock', 47, 55),\n",
       " ('tehcranium', 3, 3),\n",
       " ('immie', 18, 24),\n",
       " ('1up', 17, 26),\n",
       " ('risingsun', 3, 4),\n",
       " ('mal', 0, 2),\n",
       " ('rok', 1, 3),\n",
       " ('lazy', 14, 20),\n",
       " ('ownjoo', 30, 40),\n",
       " ('dose', 33, 40),\n",
       " ('scar', 20, 27),\n",
       " ('malice', 13, 27),\n",
       " ('dalton', 3, 9),\n",
       " ('pika', 7, 13),\n",
       " ('frostbite', 17, 22),\n",
       " ('skip', 5, 19),\n",
       " ('sparkle', 29, 51),\n",
       " ('newb', 48, 66),\n",
       " ('ripper', 10, 18)]"
      ]
     },
     "execution_count": 891,
     "metadata": {},
     "output_type": "execute_result"
    }
   ],
   "source": [
    "[(item[1], df[winner_cols].isin([item[1]]).any(axis = 1).sum(), df[loser_cols].isin([item[1]]).any(axis = 1).sum()) for item in sorted_rating_list]"
   ]
  },
  {
   "cell_type": "code",
   "execution_count": 892,
   "metadata": {},
   "outputs": [
    {
     "data": {
      "image/png": "[encoded data removed]",
      "text/plain": [
       "<Figure size 1440x720 with 1 Axes>"
      ]
     },
     "metadata": {},
     "output_type": "display_data"
    }
   ],
   "source": [
    "plotted_players = [item[1] for item in sorted_rating_list[0:9]]\n",
    "plt.figure(figsize=(20,10))\n",
    "for i, player in enumerate(plotted_players):\n",
    "    plt.plot(players_ts_time[player], alpha=0.5)\n",
    "    \n",
    "plt.title(\"Top 15 Midair Players in \" + str(df.shape[0]) + ' Games')\n",
    "plt.xlabel('Games Played')\n",
    "plt.ylabel('TrueSkill Rating')\n",
    "plt.legend(plotted_players)\n",
    "plt.show()"
   ]
  },
  {
   "cell_type": "code",
   "execution_count": 893,
   "metadata": {},
   "outputs": [],
   "source": [
    "def profile_player(target, partner_list = False, partner = False, opponent_list = False, opponent = False):\n",
    "    profile_df = df[df[player_cols].isin([target]).any(axis = 1)]\n",
    "    profile_df\n",
    "    print (target + \"'s record is: \" + str(df[winner_cols].isin([target]).any(axis = 1).sum()) + \" - \" + \\\n",
    "           str(df[loser_cols].isin([target]).any(axis = 1).sum()))\n",
    "    \n",
    "    rank_ts = [(i+1, item[0]) for i, item in enumerate(sorted_rating_list) if item[1] == target][0]\n",
    "    print (target + ' is ranked ' + str(rank_ts[0]) + ' out of ' + str(len(sorted_rating_list)) + \\\n",
    "          ', with TrueSkill score of ' + str(round(rank_ts[1], 3)) + ' and uncertainty of ' + str(round(players_ts[target].sigma, 3)))\n",
    "    record_df = pd.concat([df[df[winner_cols].isin([target]).any(axis = 1)]['Map'].value_counts(), df[df[loser_cols].isin([target]).any(axis = 1)]['Map'].value_counts()], axis = 1, sort = True)\n",
    "    record_df.columns = ['Wins', 'Losses']\n",
    "    record_df.fillna(0, inplace = True)\n",
    "    record_df.Wins = record_df.Wins.astype(int)\n",
    "    record_df.Losses = record_df.Losses.astype(int)\n",
    "    print (record_df)\n",
    "    \n",
    "    winner_partners_dict = Counter(df[df[winner_cols].isin([target]).any(axis = 1)][winner_cols].values.flatten())\n",
    "    loser_partners_dict = Counter(df[df[loser_cols].isin([target]).any(axis = 1)][loser_cols].values.flatten())\n",
    "    \n",
    "    if partner_list is not False:\n",
    "        ds = [winner_partners_dict, loser_partners_dict]\n",
    "        d = {}\n",
    "        for k in winner_partners_dict:\n",
    "            d[k] = tuple(d[k] for d in ds)\n",
    "            \n",
    "        for k in loser_partners_dict:\n",
    "            if k not in d:\n",
    "                d[k] = tuple(d[k] for d in ds)\n",
    "        print('\\n' + target + \"'s record when playing with these players:\")\n",
    "        print(list(zip(sorted(d, key=lambda x: d[x], reverse=True), sorted(d.values(), reverse = True))))\n",
    "\n",
    "    if partner is not False:\n",
    "        print ('\\n' + target + ' has ' + str(winner_partners_dict[partner]) + ' wins and ' + \\\n",
    "               str(loser_partners_dict[partner]) + ' losses with ' + partner)\n",
    "        \n",
    "    winner_vs_opponents_dict = Counter(df[df[winner_cols].isin([target]).any(axis = 1)][loser_cols].values.flatten())\n",
    "    loser_vs_opponents_dict = Counter(df[df[loser_cols].isin([target]).any(axis = 1)][winner_cols].values.flatten())\n",
    "    \n",
    "    if opponent_list is not False:\n",
    "        ds = [winner_vs_opponents_dict, loser_vs_opponents_dict]\n",
    "        d = {}\n",
    "        for k in winner_vs_opponents_dict:\n",
    "            d[k] = tuple(d[k] for d in ds)\n",
    "        for k in loser_vs_opponents_dict:\n",
    "            if k not in d:\n",
    "                d[k] = tuple(d[k] for d in ds)\n",
    "        print('\\n' + target + \"'s record when playing against these players:\")\n",
    "        print(list(zip(sorted(d, key=lambda x: d[x], reverse=True), sorted(d.values(), reverse = True))))\n",
    "        #print(sorted(d, key=lambda x: d[x], reverse=True))\n",
    "        \n",
    "    if opponent is not False:\n",
    "        print ('\\n' + target + ' has ' + str(winner_vs_opponents_dict[opponent]) + ' wins ' + \\\n",
    "               str(loser_vs_opponents_dict[opponent]) + ' losses against ' + opponent)\n"
   ]
  },
  {
   "cell_type": "code",
   "execution_count": 897,
   "metadata": {},
   "outputs": [
    {
     "name": "stdout",
     "output_type": "stream",
     "text": [
      "sharp's record is: 188 - 72\n",
      "sharp is ranked 1 out of 100, with TrueSkill score of 39.795 and uncertainty of 1.717\n",
      "            Wins  Losses\n",
      "brynhildr     19      12\n",
      "elite         44      17\n",
      "exhumed       10       2\n",
      "iguana        15       7\n",
      "ingonyama     25       4\n",
      "kryosis       23       6\n",
      "minora        25      16\n",
      "nightflare     6       2\n",
      "outpost       19       5\n",
      "sunset         1       1\n",
      "\n",
      "sharp's record when playing with these players:\n",
      "[('sharp', (188, 72)), ('esprit', (39, 19)), ('jimmy', (37, 15)), ('moose', (35, 10)), ('jahman', (34, 8)), ('dae', (31, 12)), ('iced', (30, 24)), ('newb', (26, 12)), ('moth', (25, 14)), ('swordfish', (22, 3)), ('joe', (22, 0)), ('lock', (20, 10)), ('dose', (20, 8)), ('stork', (20, 2)), ('ownjoo', (19, 10)), ('logic', (19, 8)), ('bls', (19, 6)), ('jdope', (19, 5)), ('icehawk', (19, 3)), ('future', (16, 10)), ('fox', (15, 4)), ('cyrus', (14, 6)), ('fray', (14, 3)), ('kevin', (13, 4)), ('yami', (13, 1)), ('berserker', (13, 0)), ('scar', (12, 7)), ('chem', (12, 6)), ('implo', (12, 4)), ('absolute', (12, 3)), ('1up', (11, 6)), ('squid', (10, 5)), ('sparkle', (9, 8)), ('immie', (9, 3)), ('tree', (9, 1)), ('respa', (8, 5)), ('discord', (7, 4)), ('lazy', (7, 2)), ('mista b', (7, 1)), ('rtcll', (7, 1)), ('malice', (6, 3)), ('sin', (6, 1)), ('ringo', (5, 0)), ('tyler', (4, 2)), ('oahra', (4, 0)), ('boris', (4, 0)), ('sajent', (3, 2)), ('spyder', (3, 1)), ('ripper', (2, 4)), ('frostbite', (2, 2)), ('anarchy', (2, 2)), ('jp', (2, 2)), ('v22', (2, 2)), ('yods', (2, 1)), ('risingsun', (2, 0)), ('fyr', (2, 0)), ('nark', (2, 0)), ('apsteadyhands', (2, 0)), ('bed', (2, 0)), ('rok', (1, 3)), ('decent', (1, 1)), ('tehcranium', (1, 1)), ('slush', (1, 1)), ('mavi', (1, 1)), ('ravesty', (1, 1)), ('laun', (1, 1)), ('tekra', (1, 1)), ('izza', (1, 0)), ('pika', (0, 2)), ('skip', (0, 1))]\n",
      "\n",
      "sharp has 12 wins and 4 losses with implo\n",
      "\n",
      "sharp's record when playing against these players:\n",
      "[('iced', (73, 20)), ('dae', (47, 18)), ('logic', (40, 18)), ('jimmy', (37, 21)), ('implo', (35, 18)), ('moth', (32, 13)), ('jahman', (32, 10)), ('lock', (29, 4)), ('esprit', (27, 16)), ('dose', (25, 9)), ('future', (22, 12)), ('ownjoo', (22, 6)), ('fox', (22, 5)), ('bls', (21, 7)), ('sparkle', (20, 2)), ('sin', (19, 12)), ('mista b', (19, 8)), ('squid', (19, 8)), ('yami', (17, 7)), ('dl', (17, 3)), ('moose', (15, 11)), ('fray', (15, 5)), ('1up', (14, 3)), ('skip', (14, 1)), ('discord', (13, 9)), ('absolute', (13, 4)), ('malice', (13, 2)), ('berserker', (12, 12)), ('tree', (12, 3)), ('newb', (11, 3)), ('slush', (11, 2)), ('jp', (11, 0)), ('kevin', (10, 4)), ('lazy', (10, 3)), ('cyrus', (10, 3)), ('icehawk', (10, 2)), ('swordfish', (9, 6)), ('immie', (9, 3)), ('scar', (9, 3)), ('chem', (8, 7)), ('ringo', (8, 3)), ('spyder', (8, 0)), ('sajent', (7, 6)), ('boris', (7, 4)), ('fyr', (7, 2)), ('rtcll', (6, 7)), ('jdope', (6, 5)), ('respa', (6, 5)), ('izza', (6, 4)), ('nark', (6, 1)), ('joe', (6, 1)), ('decent', (5, 3)), ('tea', (4, 5)), ('ripper', (4, 1)), ('melur', (4, 0)), ('oahra', (4, 0)), ('tyler', (3, 3)), ('bed', (3, 2)), ('stork', (3, 2)), ('frostbite', (3, 1)), ('descolada', (3, 0)), ('risingsun', (2, 0)), ('ravesty', (2, 0)), ('yods', (2, 0)), ('schreq', (2, 0)), ('giohm', (2, 0)), ('void', (2, 0)), ('pika', (2, 0)), ('tekra', (2, 0)), ('lovethyneighbor', (2, 0)), ('ragencajuin', (2, 0)), ('tehcranium', (1, 1)), ('sharp', (1, 1)), ('kzn', (1, 0)), ('name', (1, 0)), ('mavi', (1, 0)), ('blakk', (1, 0)), ('fire', (1, 0))]\n",
      "\n",
      "sharp has 12 wins 12 losses against berserker\n"
     ]
    }
   ],
   "source": [
    "profile_player(target = 'sharp', partner_list = True, partner = 'implo', opponent_list = True, opponent = 'berserker')"
   ]
  },
  {
   "cell_type": "code",
   "execution_count": 898,
   "metadata": {},
   "outputs": [],
   "source": [
    "import itertools\n",
    "import math\n",
    "BETA = 4.1666\n",
    "def win_probability(team1, team2):\n",
    "    delta_mu = sum(r.mu for r in team1) - sum(r.mu for r in team2)\n",
    "    sum_sigma = sum(r.sigma ** 2 for r in itertools.chain(team1, team2))\n",
    "    size = len(team1) + len(team2)\n",
    "    denom = math.sqrt(size * (BETA * BETA) + sum_sigma)\n",
    "    trueskill = ts.global_env()\n",
    "    return trueskill.cdf(delta_mu / denom)\n"
   ]
  },
  {
   "cell_type": "code",
   "execution_count": 899,
   "metadata": {},
   "outputs": [],
   "source": [
    "def win_prob(series):\n",
    "    return win_probability([players_ts[series['WPlayer1']], players_ts[series['WPlayer2']], players_ts[series['WPlayer3']], \\\n",
    "                     players_ts[series['WPlayer4']], players_ts[series['WPlayer5']]], \\\n",
    "                    [players_ts[series['LPlayer1']], players_ts[series['LPlayer2']], players_ts[series['LPlayer3']], \\\n",
    "                     players_ts[series['LPlayer4']], players_ts[series['LPlayer5']]])\n",
    "\n",
    "df['win_probability'] = df.apply(win_prob, axis = 1)"
   ]
  },
  {
   "cell_type": "code",
   "execution_count": 900,
   "metadata": {},
   "outputs": [],
   "source": [
    "def correct_ts_prediction(series):\n",
    "    return 'Yes' if series['win_probability'] > 0.5 else 'No'\n",
    "df['correct_ts_prediction'] = df.apply(correct_ts_prediction, axis = 1)"
   ]
  },
  {
   "cell_type": "code",
   "execution_count": 901,
   "metadata": {},
   "outputs": [
    {
     "data": {
      "text/plain": [
       "Yes    326\n",
       "No      77\n",
       "Name: correct_ts_prediction, dtype: int64"
      ]
     },
     "execution_count": 901,
     "metadata": {},
     "output_type": "execute_result"
    }
   ],
   "source": [
    "df[df['Team'] != 'Tie']['correct_ts_prediction'].value_counts()"
   ]
  },
  {
   "cell_type": "code",
   "execution_count": 791,
   "metadata": {},
   "outputs": [
    {
     "ename": "KeyError",
     "evalue": "'sharp'",
     "output_type": "error",
     "traceback": [
      "\u001b[0;31m---------------------------------------------------------------------------\u001b[0m",
      "\u001b[0;31mKeyError\u001b[0m                                  Traceback (most recent call last)",
      "\u001b[0;32m<ipython-input-791-3679aa36ae87>\u001b[0m in \u001b[0;36m<module>\u001b[0;34m()\u001b[0m\n\u001b[0;32m----> 1\u001b[0;31m \u001b[0mwin_probability\u001b[0m\u001b[0;34m(\u001b[0m\u001b[0;34m[\u001b[0m\u001b[0mplayers_ts\u001b[0m\u001b[0;34m[\u001b[0m\u001b[0;34m'sharp'\u001b[0m\u001b[0;34m]\u001b[0m\u001b[0;34m,\u001b[0m \u001b[0mplayers_ts\u001b[0m\u001b[0;34m[\u001b[0m\u001b[0;34m'joe'\u001b[0m\u001b[0;34m]\u001b[0m\u001b[0;34m,\u001b[0m \u001b[0mplayers_ts\u001b[0m\u001b[0;34m[\u001b[0m\u001b[0;34m'moose'\u001b[0m\u001b[0;34m]\u001b[0m\u001b[0;34m,\u001b[0m \u001b[0mplayers_ts\u001b[0m\u001b[0;34m[\u001b[0m\u001b[0;34m'implo'\u001b[0m\u001b[0;34m]\u001b[0m\u001b[0;34m,\u001b[0m \u001b[0mplayers_ts\u001b[0m\u001b[0;34m[\u001b[0m\u001b[0;34m'icehawk'\u001b[0m\u001b[0;34m]\u001b[0m\u001b[0;34m]\u001b[0m\u001b[0;34m,\u001b[0m                \u001b[0;34m[\u001b[0m\u001b[0mplayers_ts\u001b[0m\u001b[0;34m[\u001b[0m\u001b[0;34m'dl'\u001b[0m\u001b[0;34m]\u001b[0m\u001b[0;34m,\u001b[0m \u001b[0mplayers_ts\u001b[0m\u001b[0;34m[\u001b[0m\u001b[0;34m'stork'\u001b[0m\u001b[0;34m]\u001b[0m\u001b[0;34m,\u001b[0m \u001b[0mplayers_ts\u001b[0m\u001b[0;34m[\u001b[0m\u001b[0;34m'berserker'\u001b[0m\u001b[0;34m]\u001b[0m\u001b[0;34m,\u001b[0m \u001b[0mplayers_ts\u001b[0m\u001b[0;34m[\u001b[0m\u001b[0;34m'logic'\u001b[0m\u001b[0;34m]\u001b[0m\u001b[0;34m,\u001b[0m \u001b[0mplayers_ts\u001b[0m\u001b[0;34m[\u001b[0m\u001b[0;34m'sin'\u001b[0m\u001b[0;34m]\u001b[0m\u001b[0;34m]\u001b[0m\u001b[0;34m)\u001b[0m\u001b[0;34m\u001b[0m\u001b[0m\n\u001b[0m",
      "\u001b[0;31mKeyError\u001b[0m: 'sharp'"
     ]
    }
   ],
   "source": [
    "# win_probability([players_ts['sharp'], players_ts['joe'], players_ts['moose'], players_ts['implo'], players_ts['icehawk']],\\\n",
    "#                 [players_ts['dl'], players_ts['stork'], players_ts['berserker'], players_ts['logic'], players_ts['sin']])"
   ]
  },
  {
   "cell_type": "code",
   "execution_count": null,
   "metadata": {
    "collapsed": true
   },
   "outputs": [],
   "source": []
  },
  {
   "cell_type": "code",
   "execution_count": null,
   "metadata": {
    "collapsed": true
   },
   "outputs": [],
   "source": []
  }
 ],
 "metadata": {
  "kernelspec": {
   "display_name": "Python 3",
   "language": "python",
   "name": "python3"
  },
  "language_info": {
   "codemirror_mode": {
    "name": "ipython",
    "version": 3
   },
   "file_extension": ".py",
   "mimetype": "text/x-python",
   "name": "python",
   "nbconvert_exporter": "python",
   "pygments_lexer": "ipython3",
   "version": "3.6.5"
  }
 },
 "nbformat": 4,
 "nbformat_minor": 1
}
